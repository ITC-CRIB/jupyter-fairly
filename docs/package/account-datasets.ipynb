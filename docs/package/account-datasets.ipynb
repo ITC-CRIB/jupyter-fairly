{
 "cells": [
  {
   "cell_type": "markdown",
   "metadata": {},
   "source": [
    "# Access Account Datasets\n",
    "\n",
    "With *fairly*, you can access datasets you have uploaded using a repository's user account. This tutorial will show you how to that for the case of 4TU.ResearchData. The procedure is the same for Zenodo.\n",
    "\n",
    "**Requirements:**\n",
    "\n",
    "* A 4TU.ReseachData account\n",
    "* A personal access token. See `access token`_ if don't have one."
   ]
  },
  {
   "cell_type": "markdown",
   "metadata": {},
   "source": [
    "## 1. Connect to an account\n",
    "\n",
    "To connect to an account, simply pass a personal token when creating a client."
   ]
  },
  {
   "cell_type": "code",
   "execution_count": 1,
   "metadata": {},
   "outputs": [],
   "source": [
    "from fairly import client\n",
    "\n",
    "# fourtu = client(id=\"figshare\", token=\"my-4tu-token\")\n",
    "fourtu = client(id=\"figshare\", token=\"1f735f782f51ed06dcd5230bac9abd85c40c5bd2c43918e902bd706e7c7e8ec7a93ac0518c6228dd127703c4b8724e6de8121e552c4c1ed1b289b8a1332cbe12\")"
   ]
  },
  {
   "cell_type": "markdown",
   "metadata": {},
   "source": [
    "# 2. Retrieve datasets\n",
    "\n",
    "You can see the datasets in an account by calling the `get_account_datasets()` function, which will retrieve the list of datasets. Then, you can use the `id` and `metadata` properties of a *dataset* to find more details."
   ]
  },
  {
   "cell_type": "code",
   "execution_count": 2,
   "metadata": {},
   "outputs": [
    {
     "name": "stdout",
     "output_type": "stream",
     "text": [
      "There are 37 datasets in this account\n"
     ]
    }
   ],
   "source": [
    "# retrieves the datasets in an account\n",
    "my_datasets = fourtu.get_account_datasets()\n",
    "\n",
    "# check the number of dataets in an account\n",
    "print (\"There are\", len(my_datasets), \"datasets in this account\")\n"
   ]
  },
  {
   "cell_type": "code",
   "execution_count": 4,
   "metadata": {},
   "outputs": [
    {
     "name": "stdout",
     "output_type": "stream",
     "text": [
      "Dataset Id:\n",
      "{'id': '20552703', 'version': None}\n"
     ]
    }
   ],
   "source": [
    "# print the ID  of the first dataset on the list\n",
    "print(\"Dataset Id:\")\n",
    "\n",
    "## select the first dataset\n",
    "dataset = my_datasets[0]\n",
    "\n",
    "## print the ID\n",
    "print(dataset.id)"
   ]
  },
  {
   "cell_type": "code",
   "execution_count": 5,
   "metadata": {},
   "outputs": [
    {
     "data": {
      "text/plain": [
       "Metadata({'custom_fields': [{'is_mandatory': False, 'field_type': 'text', 'settings': {'validations': {'min_length': 1, 'max_length': 250}, 'default_value': '4TU.ResearchData'}, 'name': 'Publisher', 'value': '4TU.ResearchData'}, {'is_mandatory': False, 'field_type': 'dropdown', 'settings': {'options': ['af', 'ar', 'ast', 'az', 'bg', 'be', 'bn', 'br', 'bs', 'ca', 'cs', 'cy', 'da', 'de', 'dsb', 'el', 'en', 'en-au', 'en-gb', 'en-us', 'eo', 'es', 'es-ar', 'es-co', 'es-mx', 'es-ni', 'es-ve', 'et', 'eu', 'fa', 'fi', 'fr', 'fy', 'ga', 'gd', 'gl', 'he', 'hi', 'hr', 'hsb', 'hu', 'ia', 'id', 'io', 'is', 'it', 'ja', 'ka', 'kk', 'km', 'kn', 'ko', 'lb', 'lt', 'lv', 'mk', 'ml', 'mn', 'mr', 'my', 'nb', 'ne', 'nl', 'nn', 'os', 'pa', 'pl', 'pt', 'pt-br', 'ro', 'ru', 'sk', 'sl', 'sq', 'sr', 'sr-latn', 'sv', 'sw', 'ta', 'te', 'th', 'tr', 'tt', 'udm', 'uk', 'ur', 'vi', 'zh-hans', 'zh-hant'], 'placeholder': 'Choose if not English', 'is_multiple': False}, 'name': 'Language', 'value': ''}, {'is_mandatory': False, 'field_type': 'textarea', 'settings': {'validations': {'min_length': 1, 'max_length': 1000}, 'placeholder': 'Time coverage'}, 'name': 'Time coverage', 'value': ''}, {'is_mandatory': False, 'field_type': 'text', 'settings': {'validations': {'min_length': 1, 'max_length': 250}, 'placeholder': 'Dam Square, Amsterdam'}, 'name': 'Geolocation', 'value': ''}, {'is_mandatory': False, 'field_type': 'text', 'settings': {'validations': {'min_length': 1, 'max_length': 250}, 'placeholder': '4.893'}, 'name': 'Geolocation Longitude', 'value': ''}, {'is_mandatory': False, 'field_type': 'text', 'settings': {'validations': {'min_length': 1, 'max_length': 250}, 'placeholder': '52.373'}, 'name': 'Geolocation Latitude', 'value': ''}, {'is_mandatory': False, 'field_type': 'textarea', 'settings': {'validations': {'min_length': 3, 'max_length': 1000}, 'placeholder': 'Format'}, 'name': 'Format', 'value': ''}, {'is_mandatory': False, 'field_type': 'url', 'settings': {'placeholder': 'Link to extra data that belong to the current item', 'is_multiple': False}, 'name': 'Data Link', 'value': ''}, {'is_mandatory': False, 'field_type': 'url', 'settings': {'placeholder': 'Derived From', 'is_multiple': False}, 'name': 'Derived From', 'value': ''}, {'is_mandatory': False, 'field_type': 'url', 'settings': {'placeholder': 'Same As', 'is_multiple': False}, 'name': 'Same As', 'value': ''}, {'is_mandatory': False, 'field_type': 'textarea', 'settings': {'validations': {'min_length': 2, 'max_length': 1500}, 'placeholder': 'Delft University of Technology'}, 'name': 'Organizations', 'value': ''}], 'account_id': 2623883, 'authors': [Person(fullname='Jose Urra Llanusa')], 'figshare_url': 'https://data.4tu.nl/articles/dataset/_/20552703', 'version': 0, 'status': 'draft', 'size': 0, 'created_date': '2022-08-23T09:24:59Z', 'modified_date': '2022-08-23T09:24:59Z', 'is_public': False, 'is_confidential': False, 'is_metadata_record': False, 'license': {'value': None, 'name': None, 'url': None}, 'has_linked_file': False, 'citation': 'Urra Llanusa, Jose (2022): test_dataset. 4TU.ResearchData. Dataset. https://data.4tu.nl/articles/dataset/_/20552703', 'is_embargoed': False, 'id': 20552703, 'title': 'test_dataset', 'url': 'https://api.figshare.com/v2/account/articles/20552703', 'defined_type': 3, 'defined_type_name': 'dataset', 'group_id': 28586, 'url_private_api': 'https://api.figshare.com/v2/account/articles/20552703', 'url_public_api': 'https://api.figshare.com/v2/articles/20552703', 'url_private_html': 'https://figshare.com/account/articles/20552703', 'url_public_html': 'https://data.4tu.nl/articles/dataset/_/20552703'})"
      ]
     },
     "execution_count": 5,
     "metadata": {},
     "output_type": "execute_result"
    }
   ],
   "source": [
    "# dataset metadata\n",
    "\n",
    "dataset.metadata"
   ]
  }
 ],
 "metadata": {
  "kernelspec": {
   "display_name": "Python 3.10.4 ('env': venv)",
   "language": "python",
   "name": "python3"
  },
  "language_info": {
   "codemirror_mode": {
    "name": "ipython",
    "version": 3
   },
   "file_extension": ".py",
   "mimetype": "text/x-python",
   "name": "python",
   "nbconvert_exporter": "python",
   "pygments_lexer": "ipython3",
   "version": "3.10.4"
  },
  "orig_nbformat": 4,
  "vscode": {
   "interpreter": {
    "hash": "2248fb8fb7e8c0705f728bbb91fddfcb68422e1d8c4e239473fbcb260496ffe7"
   }
  }
 },
 "nbformat": 4,
 "nbformat_minor": 2
}
