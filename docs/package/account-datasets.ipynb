{
 "cells": [
  {
   "cell_type": "markdown",
   "metadata": {},
   "source": [
    "# Access Account Datasets\n",
    "\n",
    "With *fairly*, you can access the datasets in a repository's user account. This tutorial will show you how to that for the case of 4TU.ResearchData. The procedure is the same for Zenodo.\n",
    "\n",
    "**Requirements:**\n",
    "\n",
    "* A 4TU.ReseachData account\n",
    "* A personal access token. See [configuring access token](https://jupyterfair.readthedocs.io/en/latest/package/account-token.html) if you don't have one."
   ]
  },
  {
   "cell_type": "markdown",
   "metadata": {},
   "source": [
    "## 1. Connect to an account\n",
    "\n",
    "To connect to an repositoriy's account, we need a personal token to pass it when creating a client."
   ]
  },
  {
   "cell_type": "code",
   "execution_count": 1,
   "metadata": {},
   "outputs": [],
   "source": [
    "import fairly\n",
    "\n",
    "fourtu = fairly.client(id=\"figshare\", token=\"824bb04e551a8e66d7764ced7b9562504782d458a73b772b4162c553640e4a47bda6a39b84a78e7ae15d049b161799a56928158a03198480d9aa697beec0c095\")"
   ]
  },
  {
   "cell_type": "markdown",
   "metadata": {},
   "source": [
    "## 2. Retrieve account datasets\n",
    "\n",
    "You can see the datasets in an account by using calling the `get_account_datasets()` function, which will retrieve a list of datasets. Then, you can use the `id` and `metadata` properties of a *dataset* to find more details."
   ]
  },
  {
   "cell_type": "code",
   "execution_count": 5,
   "metadata": {},
   "outputs": [
    {
     "name": "stdout",
     "output_type": "stream",
     "text": [
      "There are 2 datasets in this account\n"
     ]
    }
   ],
   "source": [
    "# retrieves the datasets in an account\n",
    "my_datasets = fourtu.get_account_datasets()\n",
    "\n",
    "# check the number of dataets in an account\n",
    "print (\"There are\", len(my_datasets), \"datasets in this account\")\n"
   ]
  },
  {
   "cell_type": "code",
   "execution_count": 6,
   "metadata": {},
   "outputs": [
    {
     "name": "stdout",
     "output_type": "stream",
     "text": [
      "Dataset Ids:\n",
      "[{'id': '20758348', 'version': None}, {'id': '20752675', 'version': None}]\n"
     ]
    }
   ],
   "source": [
    "print(\"Dataset Ids:\")\n",
    "\n",
    "## print the IDs \n",
    "print([dataset.id for dataset in my_datasets])"
   ]
  },
  {
   "cell_type": "code",
   "execution_count": 7,
   "metadata": {},
   "outputs": [
    {
     "data": {
      "text/plain": [
       "Metadata({'authors': [Person({'fullname': 'Manuel Garcia Alvarez', 'figshare_id': 10645703})], 'license': 'CC BY 4.0', 'title': 'test-dataset', 'type': 'software', 'access_type': 'open', 'custom_fields': {'Publisher': '4TU.ResearchData', 'Language': '', 'Time coverage': '', 'Geolocation': '', 'Geolocation Longitude': '', 'Geolocation Latitude': '', 'Format': '', 'Data Link': [], 'Derived From': [], 'Same As': [], 'Organizations': ''}, 'embargo_type': 'file', 'categories': ['Communications Technologies'], 'figshare_id': {'id': '20758348', 'version': None}})"
      ]
     },
     "execution_count": 7,
     "metadata": {},
     "output_type": "execute_result"
    }
   ],
   "source": [
    "# metadata for first dataset\n",
    "my_datasets[0].metadata"
   ]
  }
 ],
 "metadata": {
  "kernelspec": {
   "display_name": "Python 3 (ipykernel)",
   "language": "python",
   "name": "python3"
  },
  "language_info": {
   "codemirror_mode": {
    "name": "ipython",
    "version": 3
   },
   "file_extension": ".py",
   "mimetype": "text/x-python",
   "name": "python",
   "nbconvert_exporter": "python",
   "pygments_lexer": "ipython3",
   "version": "3.10.4"
  },
  "vscode": {
   "interpreter": {
    "hash": "262683ceb590c1664a72ae4b5fb24aafe692d2539af9aafb5e1323673742110e"
   }
  }
 },
 "nbformat": 4,
 "nbformat_minor": 4
}
