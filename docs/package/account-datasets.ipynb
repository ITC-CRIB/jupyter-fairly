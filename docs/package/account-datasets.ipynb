{
 "cells": [
  {
   "cell_type": "markdown",
   "metadata": {},
   "source": [
    "# Access Account Datasets\n",
    "\n",
    "With *fairly*, you can access the datasets in a repository's user account. This tutorial will show you how to that for the case of 4TU.ResearchData. The procedure is the same for Zenodo.\n",
    "\n",
    "**Requirements:**\n",
    "\n",
    "* A 4TU.ReseachData account\n",
    "* A personal access token. See [configuring access token](https://jupyterfair.readthedocs.io/en/latest/package/account-token.html) if you don't have one."
   ]
  },
  {
   "cell_type": "markdown",
   "metadata": {},
   "source": [
    "## 1. Connect to an account\n",
    "\n",
    "To connect to an repositoriy's account, we need a personal token to pass it when creating a client."
   ]
  },
  {
   "cell_type": "code",
   "execution_count": 10,
   "metadata": {},
   "outputs": [],
   "source": [
    "import fairly\n",
    "\n",
    "fourtu = fairly.client(id=\"figshare\", token=\"my-fourtu-token\")"
   ]
  },
  {
   "cell_type": "markdown",
   "metadata": {},
   "source": [
    "## 2. Retrieve account datasets\n",
    "\n",
    "You can see the datasets in an account by using calling the `get_account_datasets()` function, which will retrieve a list of datasets. Then, you can use the `id` and `metadata` properties of a *dataset* to find more details."
   ]
  },
  {
   "cell_type": "code",
   "execution_count": 23,
   "metadata": {},
   "outputs": [
    {
     "name": "stdout",
     "output_type": "stream",
     "text": [
      "There are 2 datasets in this account\n"
     ]
    }
   ],
   "source": [
    "# retrieves the datasets in an account\n",
    "my_datasets = fourtu.get_account_datasets()\n",
    "\n",
    "# check the number of dataets in an account\n",
    "print (\"There are\", len(my_datasets), \"datasets in this account\")\n"
   ]
  },
  {
   "cell_type": "code",
   "execution_count": 36,
   "metadata": {},
   "outputs": [
    {
     "name": "stdout",
     "output_type": "stream",
     "text": [
      "Dataset Ids:\n",
      "[{'id': '20758348', 'version': None}, {'id': '20752675', 'version': None}]\n"
     ]
    }
   ],
   "source": [
    "print(\"Dataset Ids:\")\n",
    "\n",
    "## print the IDs \n",
    "print([dataset.id for dataset in my_datasets])"
   ]
  },
  {
   "cell_type": "code",
   "execution_count": 37,
   "metadata": {},
   "outputs": [
    {
     "data": {
      "text/plain": [
       "Metadata({'custom_fields': [{'is_mandatory': False, 'field_type': 'text', 'settings': {'validations': {'min_length': 1, 'max_length': 250}, 'default_value': '4TU.ResearchData'}, 'name': 'Publisher', 'value': '4TU.ResearchData'}, {'is_mandatory': False, 'field_type': 'dropdown', 'settings': {'options': ['af', 'ar', 'ast', 'az', 'bg', 'be', 'bn', 'br', 'bs', 'ca', 'cs', 'cy', 'da', 'de', 'dsb', 'el', 'en', 'en-au', 'en-gb', 'en-us', 'eo', 'es', 'es-ar', 'es-co', 'es-mx', 'es-ni', 'es-ve', 'et', 'eu', 'fa', 'fi', 'fr', 'fy', 'ga', 'gd', 'gl', 'he', 'hi', 'hr', 'hsb', 'hu', 'ia', 'id', 'io', 'is', 'it', 'ja', 'ka', 'kk', 'km', 'kn', 'ko', 'lb', 'lt', 'lv', 'mk', 'ml', 'mn', 'mr', 'my', 'nb', 'ne', 'nl', 'nn', 'os', 'pa', 'pl', 'pt', 'pt-br', 'ro', 'ru', 'sk', 'sl', 'sq', 'sr', 'sr-latn', 'sv', 'sw', 'ta', 'te', 'th', 'tr', 'tt', 'udm', 'uk', 'ur', 'vi', 'zh-hans', 'zh-hant'], 'placeholder': 'Choose if not English', 'is_multiple': False}, 'name': 'Language', 'value': ''}, {'is_mandatory': False, 'field_type': 'textarea', 'settings': {'validations': {'min_length': 1, 'max_length': 1000}, 'placeholder': 'Time coverage'}, 'name': 'Time coverage', 'value': ''}, {'is_mandatory': False, 'field_type': 'text', 'settings': {'validations': {'min_length': 1, 'max_length': 250}, 'placeholder': 'Dam Square, Amsterdam'}, 'name': 'Geolocation', 'value': ''}, {'is_mandatory': False, 'field_type': 'text', 'settings': {'validations': {'min_length': 1, 'max_length': 250}, 'placeholder': '4.893'}, 'name': 'Geolocation Longitude', 'value': ''}, {'is_mandatory': False, 'field_type': 'text', 'settings': {'validations': {'min_length': 1, 'max_length': 250}, 'placeholder': '52.373'}, 'name': 'Geolocation Latitude', 'value': ''}, {'is_mandatory': False, 'field_type': 'textarea', 'settings': {'validations': {'min_length': 3, 'max_length': 1000}, 'placeholder': 'Format'}, 'name': 'Format', 'value': ''}, {'is_mandatory': False, 'field_type': 'url', 'settings': {'placeholder': 'Link to extra data that belong to the current item', 'is_multiple': False}, 'name': 'Data Link', 'value': []}, {'is_mandatory': False, 'field_type': 'url', 'settings': {'placeholder': 'Derived From', 'is_multiple': False}, 'name': 'Derived From', 'value': []}, {'is_mandatory': False, 'field_type': 'url', 'settings': {'placeholder': 'Same As', 'is_multiple': False}, 'name': 'Same As', 'value': []}, {'is_mandatory': False, 'field_type': 'textarea', 'settings': {'validations': {'min_length': 2, 'max_length': 1500}, 'placeholder': 'Delft University of Technology'}, 'name': 'Organizations', 'value': ''}], 'account_id': 2786537, 'authors': [Person(fullname='Manuel Garcia Alvarez')], 'figshare_url': 'https://data.4tu.nl/articles/software/_/20758348', 'version': 0, 'status': 'draft', 'size': 0, 'created_date': '2022-08-31T22:22:07Z', 'modified_date': '2022-08-31T22:23:11Z', 'is_public': False, 'is_confidential': False, 'is_metadata_record': False, 'license': {'value': 1, 'name': 'CC BY 4.0', 'url': 'https://creativecommons.org/licenses/by/4.0/'}, 'categories': [{'id': 13657, 'title': 'Communications Technologies', 'parent_id': 13652, 'path': '', 'source_id': '', 'taxonomy_id': 85}], 'has_linked_file': False, 'citation': 'Garcia Alvarez, Manuel (2022): test-dataset. 4TU.ResearchData. Software. https://data.4tu.nl/articles/software/_/20758348', 'is_embargoed': False, 'embargo_type': 'file', 'id': 20758348, 'title': 'test-dataset', 'url': 'https://api.figshare.com/v2/account/articles/20758348', 'defined_type': 9, 'defined_type_name': 'software', 'group_id': 28586, 'url_private_api': 'https://api.figshare.com/v2/account/articles/20758348', 'url_public_api': 'https://api.figshare.com/v2/articles/20758348', 'url_private_html': 'https://figshare.com/account/articles/20758348', 'url_public_html': 'https://data.4tu.nl/articles/software/_/20758348'})"
      ]
     },
     "execution_count": 37,
     "metadata": {},
     "output_type": "execute_result"
    }
   ],
   "source": [
    "# metadata for first dataset\n",
    "my_datasets[0].metadata"
   ]
  }
 ],
 "metadata": {
  "kernelspec": {
   "display_name": "Python 3.10.4 64-bit",
   "language": "python",
   "name": "python3"
  },
  "language_info": {
   "codemirror_mode": {
    "name": "ipython",
    "version": 3
   },
   "file_extension": ".py",
   "mimetype": "text/x-python",
   "name": "python",
   "nbconvert_exporter": "python",
   "pygments_lexer": "ipython3",
   "version": "3.10.4"
  },
  "vscode": {
   "interpreter": {
    "hash": "916dbcbb3f70747c44a77c7bcd40155683ae19c65e1c03b4aa3499c5328201f1"
   }
  }
 },
 "nbformat": 4,
 "nbformat_minor": 4
}
