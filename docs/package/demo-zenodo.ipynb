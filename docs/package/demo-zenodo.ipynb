{
 "cells": [
  {
   "cell_type": "markdown",
   "id": "441a22a6-7527-48c3-951e-7cab0937707c",
   "metadata": {},
   "source": [
    "## Copying public datasets from Zenodo\n",
    "\n",
    "The *Zenodo* repository its own platform for managing research datasets. For this example, we will use the dataset [Quality and timing of crowd-based water level class observations](https://zenodo.org/record/3929547#.YwdoitJBy3c). This dataset is a single compressed file of type `.zip`, which contains several other files and directories, and it is about `27 MBs` in size. \n",
    "\n",
    "The dataset has ID: `3929547` in Zenodo the ID of a dataet can be found by looking its DOI. It last part of a DOI (a number). For example, the DOI for the second version of the dataset is `10.5281/zenodo.3929547`, therefore its ID is `3929547`\n",
    "\n",
    "### 1. Create a client to connect to Zenodo"
   ]
  },
  {
   "cell_type": "code",
   "execution_count": 4,
   "id": "3ddbd026-62e2-4a2c-a62e-127f06a4b0f3",
   "metadata": {},
   "outputs": [],
   "source": [
    "from fairly import client\n",
    "\n",
    "zenodo = client(id=\"zenodo\")"
   ]
  },
  {
   "cell_type": "markdown",
   "id": "f088481e",
   "metadata": {},
   "source": [
    "### 2. Connect to the dataset using its ID"
   ]
  },
  {
   "cell_type": "code",
   "execution_count": 5,
   "id": "075a2d23-85ee-4415-bd53-888e11627f61",
   "metadata": {},
   "outputs": [],
   "source": [
    "dataset = zenodo.get_dataset(\"3929547\") "
   ]
  },
  {
   "cell_type": "markdown",
   "id": "59c971ed",
   "metadata": {},
   "source": [
    "### 3. Explore dataset's metadata\n",
    "\n",
    "Once we have made a connection to a dataset, we can access its metadata (as stored in the data repository) by calling the `metadata` property of a dataset. "
   ]
  },
  {
   "cell_type": "code",
   "execution_count": 3,
   "id": "30023980",
   "metadata": {},
   "outputs": [
    {
     "ename": "KeyError",
     "evalue": "'notes'",
     "output_type": "error",
     "traceback": [
      "\u001b[0;31m---------------------------------------------------------------------------\u001b[0m",
      "\u001b[0;31mKeyError\u001b[0m                                  Traceback (most recent call last)",
      "\u001b[1;32m/home/manuel/Documents/devel/osf-demo/demo-zenodo.ipynb Cell 6\u001b[0m in \u001b[0;36m<cell line: 2>\u001b[0;34m()\u001b[0m\n\u001b[1;32m      <a href='vscode-notebook-cell:/home/manuel/Documents/devel/osf-demo/demo-zenodo.ipynb#W5sZmlsZQ%3D%3D?line=0'>1</a>\u001b[0m \u001b[39m# Retrieves metadata from data repository\u001b[39;00m\n\u001b[0;32m----> <a href='vscode-notebook-cell:/home/manuel/Documents/devel/osf-demo/demo-zenodo.ipynb#W5sZmlsZQ%3D%3D?line=1'>2</a>\u001b[0m dataset\u001b[39m.\u001b[39;49mmetadata\n",
      "File \u001b[0;32m~/Documents/devel/osf-demo/venv/lib/python3.10/site-packages/fairly/dataset/__init__.py:51\u001b[0m, in \u001b[0;36mDataset.metadata\u001b[0;34m(self)\u001b[0m\n\u001b[1;32m     48\u001b[0m \u001b[39m@property\u001b[39m\n\u001b[1;32m     49\u001b[0m \u001b[39mdef\u001b[39;00m \u001b[39mmetadata\u001b[39m(\u001b[39mself\u001b[39m) \u001b[39m-\u001b[39m\u001b[39m>\u001b[39m Metadata:\n\u001b[1;32m     50\u001b[0m     \u001b[39m\"\"\"Metadata of the dataset\"\"\"\u001b[39;00m\n\u001b[0;32m---> 51\u001b[0m     \u001b[39mreturn\u001b[39;00m \u001b[39mself\u001b[39;49m\u001b[39m.\u001b[39;49mget_metadata()\n",
      "File \u001b[0;32m~/Documents/devel/osf-demo/venv/lib/python3.10/site-packages/fairly/dataset/__init__.py:44\u001b[0m, in \u001b[0;36mDataset.get_metadata\u001b[0;34m(self, refresh)\u001b[0m\n\u001b[1;32m     35\u001b[0m \u001b[39m\"\"\"Returns metadata of the dataset\u001b[39;00m\n\u001b[1;32m     36\u001b[0m \n\u001b[1;32m     37\u001b[0m \u001b[39mArguments:\u001b[39;00m\n\u001b[0;32m   (...)\u001b[0m\n\u001b[1;32m     41\u001b[0m \u001b[39m    Metadata of the dataset\u001b[39;00m\n\u001b[1;32m     42\u001b[0m \u001b[39m\"\"\"\u001b[39;00m\n\u001b[1;32m     43\u001b[0m \u001b[39mif\u001b[39;00m \u001b[39mself\u001b[39m\u001b[39m.\u001b[39m_metadata \u001b[39mis\u001b[39;00m \u001b[39mNone\u001b[39;00m \u001b[39mor\u001b[39;00m refresh:\n\u001b[0;32m---> 44\u001b[0m     \u001b[39mself\u001b[39m\u001b[39m.\u001b[39m_metadata \u001b[39m=\u001b[39m \u001b[39mself\u001b[39;49m\u001b[39m.\u001b[39;49m_get_metadata()\n\u001b[1;32m     45\u001b[0m \u001b[39mreturn\u001b[39;00m \u001b[39mself\u001b[39m\u001b[39m.\u001b[39m_metadata\n",
      "File \u001b[0;32m~/Documents/devel/osf-demo/venv/lib/python3.10/site-packages/fairly/dataset/remote.py:53\u001b[0m, in \u001b[0;36mRemoteDataset._get_metadata\u001b[0;34m(self)\u001b[0m\n\u001b[1;32m     52\u001b[0m \u001b[39mdef\u001b[39;00m \u001b[39m_get_metadata\u001b[39m(\u001b[39mself\u001b[39m) \u001b[39m-\u001b[39m\u001b[39m>\u001b[39m Metadata:\n\u001b[0;32m---> 53\u001b[0m     \u001b[39mreturn\u001b[39;00m \u001b[39mself\u001b[39;49m\u001b[39m.\u001b[39;49mclient\u001b[39m.\u001b[39;49mget_metadata(\u001b[39mself\u001b[39;49m\u001b[39m.\u001b[39;49mid)\n",
      "File \u001b[0;32m~/Documents/devel/osf-demo/venv/lib/python3.10/site-packages/fairly/client/zenodo.py:401\u001b[0m, in \u001b[0;36mZenodoClient.get_metadata\u001b[0;34m(self, id)\u001b[0m\n\u001b[1;32m    395\u001b[0m metadata \u001b[39m=\u001b[39m {\n\u001b[1;32m    396\u001b[0m }\n\u001b[1;32m    398\u001b[0m \u001b[39m# Set repository-specific metadata fields\u001b[39;00m\n\u001b[1;32m    399\u001b[0m metadata[\u001b[39m\"\u001b[39m\u001b[39mzenodo\u001b[39m\u001b[39m\"\u001b[39m] \u001b[39m=\u001b[39m {\n\u001b[1;32m    400\u001b[0m     \u001b[39m\"\u001b[39m\u001b[39mprereserve_doi\u001b[39m\u001b[39m\"\u001b[39m: _metadata[\u001b[39m\"\u001b[39m\u001b[39mprereserve_doi\u001b[39m\u001b[39m\"\u001b[39m],\n\u001b[0;32m--> 401\u001b[0m     \u001b[39m\"\u001b[39m\u001b[39mnotes\u001b[39m\u001b[39m\"\u001b[39m: _metadata[\u001b[39m\"\u001b[39;49m\u001b[39mnotes\u001b[39;49m\u001b[39m\"\u001b[39;49m],\n\u001b[1;32m    402\u001b[0m     \u001b[39m\"\u001b[39m\u001b[39mrelated_identifiers\u001b[39m\u001b[39m\"\u001b[39m: _metadata[\u001b[39m\"\u001b[39m\u001b[39mrelated_identifiers\u001b[39m\u001b[39m\"\u001b[39m],\n\u001b[1;32m    403\u001b[0m     \u001b[39m\"\u001b[39m\u001b[39mcontributors\u001b[39m\u001b[39m\"\u001b[39m: _metadata[\u001b[39m\"\u001b[39m\u001b[39mcontributors\u001b[39m\u001b[39m\"\u001b[39m],\n\u001b[1;32m    404\u001b[0m }\n\u001b[1;32m    406\u001b[0m \u001b[39m# Set thesis metadata fields if required\u001b[39;00m\n\u001b[1;32m    407\u001b[0m \u001b[39mif\u001b[39;00m _metadata[\u001b[39m\"\u001b[39m\u001b[39mpublication_type\u001b[39m\u001b[39m\"\u001b[39m] \u001b[39m==\u001b[39m \u001b[39m\"\u001b[39m\u001b[39mthesis\u001b[39m\u001b[39m\"\u001b[39m:\n",
      "\u001b[0;31mKeyError\u001b[0m: 'notes'"
     ]
    }
   ],
   "source": [
    "# Retrieves metadata from data repository\n",
    "dataset.metadata"
   ]
  },
  {
   "cell_type": "markdown",
   "id": "2523d219",
   "metadata": {},
   "source": [
    "### 4. List dataset's files\n",
    "\n",
    "We can list the files of a dataset using the `files` property. The result is a Python dictionary where the name of each file becomes an element of the dictionary. In this case the dataset contains only one file."
   ]
  },
  {
   "cell_type": "code",
   "execution_count": 6,
   "id": "f9f51002",
   "metadata": {},
   "outputs": [
    {
     "data": {
      "text/plain": [
       "{'DataForUploadToZenodo.zip': 'DataForUploadToZenodo.zip'}"
      ]
     },
     "execution_count": 6,
     "metadata": {},
     "output_type": "execute_result"
    }
   ],
   "source": [
    "# Lists files (data) associated to the dataset\n",
    "dataset.files"
   ]
  },
  {
   "cell_type": "markdown",
   "id": "5fed2262",
   "metadata": {},
   "source": [
    "### 4. Download a file\n",
    "\n",
    "We can download the file in the dataset by using the name of a file. For example `'DataForUploadToZenodo.zip'`. \n",
    "\n",
    "> The `path` parameter can be used to define where to store the file, otherwise the file will be store in the working directory.\n"
   ]
  },
  {
   "cell_type": "code",
   "execution_count": 7,
   "id": "71a25448",
   "metadata": {},
   "outputs": [
    {
     "data": {
      "text/plain": [
       "'DataForUploadToZenodo.zip'"
      ]
     },
     "execution_count": 7,
     "metadata": {},
     "output_type": "execute_result"
    }
   ],
   "source": [
    "# Select a file to download from the dataset\n",
    "single_file =  dataset.files['DataForUploadToZenodo.zip']\n",
    "\n",
    "# download a file\n",
    "zenodo.download_file(single_file, path=\"./from-zenodo\")"
   ]
  },
  {
   "cell_type": "markdown",
   "id": "d7351589",
   "metadata": {},
   "source": [
    "### 5. Download a dataset\n",
    "\n",
    "We also can download all files and metadata of a dataset using the `store()` function. We need to provide a path to a directory to store the dataset. If the directory does not exist, it would be created."
   ]
  },
  {
   "cell_type": "code",
   "execution_count": 8,
   "id": "506d536b-53f0-482a-95e3-1d37eb5c3676",
   "metadata": {},
   "outputs": [
    {
     "ename": "KeyError",
     "evalue": "'notes'",
     "output_type": "error",
     "traceback": [
      "\u001b[0;31m---------------------------------------------------------------------------\u001b[0m",
      "\u001b[0;31mKeyError\u001b[0m                                  Traceback (most recent call last)",
      "\u001b[1;32m/home/manuel/Documents/devel/osf-demo/demo-zenodo.ipynb Cell 12\u001b[0m in \u001b[0;36m<cell line: 2>\u001b[0;34m()\u001b[0m\n\u001b[1;32m      <a href='vscode-notebook-cell:/home/manuel/Documents/devel/osf-demo/demo-zenodo.ipynb#X13sZmlsZQ%3D%3D?line=0'>1</a>\u001b[0m \u001b[39m# This will download about 278 MBs\u001b[39;00m\n\u001b[0;32m----> <a href='vscode-notebook-cell:/home/manuel/Documents/devel/osf-demo/demo-zenodo.ipynb#X13sZmlsZQ%3D%3D?line=1'>2</a>\u001b[0m dataset\u001b[39m.\u001b[39;49mstore(\u001b[39m\"\u001b[39;49m\u001b[39m./quality\u001b[39;49m\u001b[39m\"\u001b[39;49m)\n",
      "File \u001b[0;32m~/Documents/devel/osf-demo/venv/lib/python3.10/site-packages/fairly/dataset/remote.py:88\u001b[0m, in \u001b[0;36mRemoteDataset.store\u001b[0;34m(self, path, notify, extract)\u001b[0m\n\u001b[1;32m     86\u001b[0m dataset \u001b[39m=\u001b[39m LocalDataset(path)\n\u001b[1;32m     87\u001b[0m \u001b[39m# TODO: Set metadata directly without serialization\u001b[39;00m\n\u001b[0;32m---> 88\u001b[0m dataset\u001b[39m.\u001b[39mset_metadata(\u001b[39m*\u001b[39m\u001b[39m*\u001b[39m\u001b[39mself\u001b[39;49m\u001b[39m.\u001b[39;49mmetadata\u001b[39m.\u001b[39mserialize())\n\u001b[1;32m     90\u001b[0m includes \u001b[39m=\u001b[39m dataset\u001b[39m.\u001b[39mincludes\n\u001b[1;32m     91\u001b[0m \u001b[39mfor\u001b[39;00m name, file \u001b[39min\u001b[39;00m \u001b[39mself\u001b[39m\u001b[39m.\u001b[39mfiles\u001b[39m.\u001b[39mitems():\n",
      "File \u001b[0;32m~/Documents/devel/osf-demo/venv/lib/python3.10/site-packages/fairly/dataset/__init__.py:51\u001b[0m, in \u001b[0;36mDataset.metadata\u001b[0;34m(self)\u001b[0m\n\u001b[1;32m     48\u001b[0m \u001b[39m@property\u001b[39m\n\u001b[1;32m     49\u001b[0m \u001b[39mdef\u001b[39;00m \u001b[39mmetadata\u001b[39m(\u001b[39mself\u001b[39m) \u001b[39m-\u001b[39m\u001b[39m>\u001b[39m Metadata:\n\u001b[1;32m     50\u001b[0m     \u001b[39m\"\"\"Metadata of the dataset\"\"\"\u001b[39;00m\n\u001b[0;32m---> 51\u001b[0m     \u001b[39mreturn\u001b[39;00m \u001b[39mself\u001b[39;49m\u001b[39m.\u001b[39;49mget_metadata()\n",
      "File \u001b[0;32m~/Documents/devel/osf-demo/venv/lib/python3.10/site-packages/fairly/dataset/__init__.py:44\u001b[0m, in \u001b[0;36mDataset.get_metadata\u001b[0;34m(self, refresh)\u001b[0m\n\u001b[1;32m     35\u001b[0m \u001b[39m\"\"\"Returns metadata of the dataset\u001b[39;00m\n\u001b[1;32m     36\u001b[0m \n\u001b[1;32m     37\u001b[0m \u001b[39mArguments:\u001b[39;00m\n\u001b[0;32m   (...)\u001b[0m\n\u001b[1;32m     41\u001b[0m \u001b[39m    Metadata of the dataset\u001b[39;00m\n\u001b[1;32m     42\u001b[0m \u001b[39m\"\"\"\u001b[39;00m\n\u001b[1;32m     43\u001b[0m \u001b[39mif\u001b[39;00m \u001b[39mself\u001b[39m\u001b[39m.\u001b[39m_metadata \u001b[39mis\u001b[39;00m \u001b[39mNone\u001b[39;00m \u001b[39mor\u001b[39;00m refresh:\n\u001b[0;32m---> 44\u001b[0m     \u001b[39mself\u001b[39m\u001b[39m.\u001b[39m_metadata \u001b[39m=\u001b[39m \u001b[39mself\u001b[39;49m\u001b[39m.\u001b[39;49m_get_metadata()\n\u001b[1;32m     45\u001b[0m \u001b[39mreturn\u001b[39;00m \u001b[39mself\u001b[39m\u001b[39m.\u001b[39m_metadata\n",
      "File \u001b[0;32m~/Documents/devel/osf-demo/venv/lib/python3.10/site-packages/fairly/dataset/remote.py:53\u001b[0m, in \u001b[0;36mRemoteDataset._get_metadata\u001b[0;34m(self)\u001b[0m\n\u001b[1;32m     52\u001b[0m \u001b[39mdef\u001b[39;00m \u001b[39m_get_metadata\u001b[39m(\u001b[39mself\u001b[39m) \u001b[39m-\u001b[39m\u001b[39m>\u001b[39m Metadata:\n\u001b[0;32m---> 53\u001b[0m     \u001b[39mreturn\u001b[39;00m \u001b[39mself\u001b[39;49m\u001b[39m.\u001b[39;49mclient\u001b[39m.\u001b[39;49mget_metadata(\u001b[39mself\u001b[39;49m\u001b[39m.\u001b[39;49mid)\n",
      "File \u001b[0;32m~/Documents/devel/osf-demo/venv/lib/python3.10/site-packages/fairly/client/zenodo.py:401\u001b[0m, in \u001b[0;36mZenodoClient.get_metadata\u001b[0;34m(self, id)\u001b[0m\n\u001b[1;32m    395\u001b[0m metadata \u001b[39m=\u001b[39m {\n\u001b[1;32m    396\u001b[0m }\n\u001b[1;32m    398\u001b[0m \u001b[39m# Set repository-specific metadata fields\u001b[39;00m\n\u001b[1;32m    399\u001b[0m metadata[\u001b[39m\"\u001b[39m\u001b[39mzenodo\u001b[39m\u001b[39m\"\u001b[39m] \u001b[39m=\u001b[39m {\n\u001b[1;32m    400\u001b[0m     \u001b[39m\"\u001b[39m\u001b[39mprereserve_doi\u001b[39m\u001b[39m\"\u001b[39m: _metadata[\u001b[39m\"\u001b[39m\u001b[39mprereserve_doi\u001b[39m\u001b[39m\"\u001b[39m],\n\u001b[0;32m--> 401\u001b[0m     \u001b[39m\"\u001b[39m\u001b[39mnotes\u001b[39m\u001b[39m\"\u001b[39m: _metadata[\u001b[39m\"\u001b[39;49m\u001b[39mnotes\u001b[39;49m\u001b[39m\"\u001b[39;49m],\n\u001b[1;32m    402\u001b[0m     \u001b[39m\"\u001b[39m\u001b[39mrelated_identifiers\u001b[39m\u001b[39m\"\u001b[39m: _metadata[\u001b[39m\"\u001b[39m\u001b[39mrelated_identifiers\u001b[39m\u001b[39m\"\u001b[39m],\n\u001b[1;32m    403\u001b[0m     \u001b[39m\"\u001b[39m\u001b[39mcontributors\u001b[39m\u001b[39m\"\u001b[39m: _metadata[\u001b[39m\"\u001b[39m\u001b[39mcontributors\u001b[39m\u001b[39m\"\u001b[39m],\n\u001b[1;32m    404\u001b[0m }\n\u001b[1;32m    406\u001b[0m \u001b[39m# Set thesis metadata fields if required\u001b[39;00m\n\u001b[1;32m    407\u001b[0m \u001b[39mif\u001b[39;00m _metadata[\u001b[39m\"\u001b[39m\u001b[39mpublication_type\u001b[39m\u001b[39m\"\u001b[39m] \u001b[39m==\u001b[39m \u001b[39m\"\u001b[39m\u001b[39mthesis\u001b[39m\u001b[39m\"\u001b[39m:\n",
      "\u001b[0;31mKeyError\u001b[0m: 'notes'"
     ]
    }
   ],
   "source": [
    "# This will download about 278 MBs\n",
    "dataset.store(\"./quality\")\n"
   ]
  }
 ],
 "metadata": {
  "kernelspec": {
   "display_name": "Python 3.10.4 ('venv': venv)",
   "language": "python",
   "name": "python3"
  },
  "language_info": {
   "codemirror_mode": {
    "name": "ipython",
    "version": 3
   },
   "file_extension": ".py",
   "mimetype": "text/x-python",
   "name": "python",
   "nbconvert_exporter": "python",
   "pygments_lexer": "ipython3",
   "version": "3.10.4"
  },
  "vscode": {
   "interpreter": {
    "hash": "262683ceb590c1664a72ae4b5fb24aafe692d2539af9aafb5e1323673742110e"
   }
  }
 },
 "nbformat": 4,
 "nbformat_minor": 5
}
