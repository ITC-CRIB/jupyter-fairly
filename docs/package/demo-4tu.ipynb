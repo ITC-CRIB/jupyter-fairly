{
 "cells": [
  {
   "cell_type": "markdown",
   "id": "441a22a6-7527-48c3-951e-7cab0937707c",
   "metadata": {},
   "source": [
    "## Copying public datasets from 4TU.ResearchData\n",
    "\n",
    "The *4TU.ResearchData* repository uses Figshare as a platform for managing research datasets. For this example, we will use the dataset [EDoM measurement campaign](https://data.4tu.nl/articles/dataset/EDoM_measurement_campaign_full_data_from_the_lower_Ems_River/20308263). This dataset contains 28 files of different types (`.txt`, `.pdf`), and about `278 MBs`. \n",
    "\n",
    "The dataset has ID: `20308263`, in 4TU.ResearchData the dataset ID is the last part or the URL that appears in the web browser. \n",
    "\n",
    "### 1. Create a Figshare client to connect to 4TU.ResearchData"
   ]
  },
  {
   "cell_type": "code",
   "execution_count": 1,
   "id": "3ddbd026-62e2-4a2c-a62e-127f06a4b0f3",
   "metadata": {},
   "outputs": [],
   "source": [
    "from fairly import client\n",
    "\n",
    "fourtu = client(id=\"figshare\")"
   ]
  },
  {
   "cell_type": "markdown",
   "id": "f088481e",
   "metadata": {},
   "source": [
    "### 2. Connect to the dataset using its ID"
   ]
  },
  {
   "cell_type": "code",
   "execution_count": 3,
   "id": "075a2d23-85ee-4415-bd53-888e11627f61",
   "metadata": {},
   "outputs": [],
   "source": [
    "dataset = fourtu.get_dataset(\"20308263\") "
   ]
  },
  {
   "cell_type": "markdown",
   "id": "59c971ed",
   "metadata": {},
   "source": [
    "### 3. Explore dataset's metadata\n",
    "\n",
    "Once we have made a connection to a dataset, we can access its metadata (as stored in the data repository) by using the `metadata` property of a dataset. "
   ]
  },
  {
   "cell_type": "code",
   "execution_count": 4,
   "id": "30023980",
   "metadata": {},
   "outputs": [
    {
     "data": {
      "text/plain": [
       "Metadata({'custom_fields': [{'name': 'Publisher', 'value': '4TU.ResearchData'}, {'name': 'Language', 'value': ''}, {'name': 'Time coverage', 'value': '2017-2019'}, {'name': 'Geolocation', 'value': 'Ems estuary'}, {'name': 'Geolocation Longitude', 'value': '7.04'}, {'name': 'Geolocation Latitude', 'value': '53.30'}, {'name': 'Format', 'value': 'ASCII text'}, {'name': 'Data Link', 'value': []}, {'name': 'Derived From', 'value': []}, {'name': 'Same As', 'value': []}, {'name': 'Organizations', 'value': 'Niedersächsischer Landesbetrieb für Wasserwirtschaft Küsten (NLWKN);'}], 'authors': [<fairly.author.Author object at 0x7f41f89e6bc0>, <fairly.author.Author object at 0x7f41f864e200>], 'figshare_url': 'https://data.4tu.nl/articles/dataset/EDoM_measurement_campaign_full_data_from_the_lower_Ems_River/20308263', 'description': '<p>A large amount of long term monitoring data collected during the Edom measurement campaign has been published in Net CDF as part of the collection \\'Edom measurements campaign: data from long-term monitoring\\' ( <a href=\"https://doi.org/10.4121/19519618.v1\" target=\"_blank\">https://doi.org/10.4121/19519618.v1</a>). This dataset provides the full subset of the long term mooring data (including oxygen and flow velocities) in ASCII text format, and only for the lower Ems River</p>', 'version': 1, 'status': 'public', 'size': 290781822, 'created_date': '2022-07-14T10:56:04Z', 'modified_date': '2022-07-14T10:56:05Z', 'is_public': True, 'is_confidential': False, 'is_metadata_record': False, 'license': {'value': 11, 'name': 'CC BY-NC-SA 4.0', 'url': 'https://creativecommons.org/licenses/by-nc-sa/4.0/'}, 'tags': ['Hydrodynamics', 'Sediment dynamics', 'Collection: The Ems-Dollard Measurement (EDoM) campaign'], 'categories': [{'id': 13557, 'title': 'Physical Geography and Environmental Geoscience', 'parent_id': 13551, 'path': '', 'source_id': '', 'taxonomy_id': 85}], 'has_linked_file': False, 'citation': 'van Maren, Bas; Engels, Andreas (2022): EDoM measurement campaign: full data from the lower Ems River. 4TU.ResearchData. Dataset. https://doi.org/10.4121/20308263.v1', 'is_embargoed': False, 'embargo_type': 'file', 'id': 20308263, 'title': 'EDoM measurement campaign: full data from the lower Ems River', 'doi': '10.4121/20308263.v1', 'url': 'https://api.figshare.com/v2/articles/20308263', 'published_date': '2022-07-14T10:56:04Z', 'thumb': 'https://s3-eu-west-1.amazonaws.com/ppreviews-4tu-9880204261/36273096/thumb.png', 'defined_type': 3, 'defined_type_name': 'dataset', 'group_id': 34907, 'url_private_api': 'https://api.figshare.com/v2/account/articles/20308263', 'url_public_api': 'https://api.figshare.com/v2/articles/20308263', 'url_private_html': 'https://figshare.com/account/articles/20308263', 'url_public_html': 'https://data.4tu.nl/articles/dataset/EDoM_measurement_campaign_full_data_from_the_lower_Ems_River/20308263', 'timeline': {'posted': '2022-07-14T10:56:04', 'firstOnline': '2022-07-14T10:56:04'}})"
      ]
     },
     "execution_count": 4,
     "metadata": {},
     "output_type": "execute_result"
    }
   ],
   "source": [
    "# Retrieves metadata from data repository\n",
    "dataset.metadata"
   ]
  },
  {
   "cell_type": "markdown",
   "id": "2523d219",
   "metadata": {},
   "source": [
    "### 4. List dataset's files\n",
    "\n",
    "We can list the files of a dataset using the `files` property. The result is a Python dictionary where the name of each file becomes an element of the dictionary."
   ]
  },
  {
   "cell_type": "code",
   "execution_count": 5,
   "id": "f9f51002",
   "metadata": {},
   "outputs": [
    {
     "data": {
      "text/plain": [
       "{'CsEmspier_01052017-01052019_from_NLWKN.txt': 'CsEmspier_01052017-01052019_from_NLWKN.txt',\n",
       " 'CsGandesum_01052017-01052019_from_NLWKN.txt': 'CsGandesum_01052017-01052019_from_NLWKN.txt',\n",
       " 'CsKnock_01052017-01052019_from_NLWKN.txt': 'CsKnock_01052017-01052019_from_NLWKN.txt',\n",
       " 'CsMP1_01052017-01052019_from_WSV.txt': 'CsMP1_01052017-01052019_from_WSV.txt',\n",
       " 'CsPogum_01052017-01052019_from_NLWKN.txt': 'CsPogum_01052017-01052019_from_NLWKN.txt',\n",
       " 'CsTerborg_01052017-01052019_from_NLWKN.txt': 'CsTerborg_01052017-01052019_from_NLWKN.txt',\n",
       " 'Messung_Gewaesserguete_EMS_NLWKN.pdf': 'Messung_Gewaesserguete_EMS_NLWKN.pdf',\n",
       " 'O2Emspier_01052017-01052019_from_NLWKN.txt': 'O2Emspier_01052017-01052019_from_NLWKN.txt',\n",
       " 'O2Gandersum_01052017-01052019_from_NLWKN.txt': 'O2Gandersum_01052017-01052019_from_NLWKN.txt',\n",
       " 'O2Knock_01052017-01052019_from_NLWKN.txt': 'O2Knock_01052017-01052019_from_NLWKN.txt',\n",
       " 'O2MP1_01052017-01052019_from_WSV.txt': 'O2MP1_01052017-01052019_from_WSV.txt',\n",
       " 'O2Pogum_01052017-01052019_from_NLWKN.txt': 'O2Pogum_01052017-01052019_from_NLWKN.txt',\n",
       " 'O2Terborg_01052017-01052019_from_NLWKN.txt': 'O2Terborg_01052017-01052019_from_NLWKN.txt',\n",
       " 'Q_Versen_052017-052019.txt': 'Q_Versen_052017-052019.txt',\n",
       " 'readme.txt': 'readme.txt',\n",
       " 'SpEmspier_01052017-01052019_from_NLWKN.txt': 'SpEmspier_01052017-01052019_from_NLWKN.txt',\n",
       " 'SpGandersum_01052017-01052019_from_NLWKN.txt': 'SpGandersum_01052017-01052019_from_NLWKN.txt',\n",
       " 'SpKnock_01052017-01052019_from_NLWKN.txt': 'SpKnock_01052017-01052019_from_NLWKN.txt',\n",
       " 'SpMP1_01052017-01052019_from_WSV.txt': 'SpMP1_01052017-01052019_from_WSV.txt',\n",
       " 'SpPogum_01052017-01052019_from_NLWKN.txt': 'SpPogum_01052017-01052019_from_NLWKN.txt',\n",
       " 'SpTerborg_01052017-01052019_from_NLWKN.txt': 'SpTerborg_01052017-01052019_from_NLWKN.txt',\n",
       " 'U_Emden_01052017-01052019_from_WSA_Emden.txt': 'U_Emden_01052017-01052019_from_WSA_Emden.txt',\n",
       " 'U_Knock_01052017-01052019_from_WSA_Emden.txt': 'U_Knock_01052017-01052019_from_WSA_Emden.txt',\n",
       " 'U_MP1_01052017-01052019_from_WSV.txt': 'U_MP1_01052017-01052019_from_WSV.txt',\n",
       " 'U_Terborg_01052017-01052019_from_WSA_Emden.txt': 'U_Terborg_01052017-01052019_from_WSA_Emden.txt',\n",
       " 'WL_Emden_01052017-01052019_from_WSA_Emden.txt': 'WL_Emden_01052017-01052019_from_WSA_Emden.txt',\n",
       " 'WL_Knock_01052017-01052019_from_WSA_Emden.txt': 'WL_Knock_01052017-01052019_from_WSA_Emden.txt',\n",
       " 'WL_Terborg_01052017-01052019_from_WSA_Emden.txt': 'WL_Terborg_01052017-01052019_from_WSA_Emden.txt'}"
      ]
     },
     "execution_count": 5,
     "metadata": {},
     "output_type": "execute_result"
    }
   ],
   "source": [
    "# Lists files (data) associated to the dataset\n",
    "dataset.files"
   ]
  },
  {
   "cell_type": "markdown",
   "id": "39c30dce-9c82-4d7f-9151-8c65ef4fadfd",
   "metadata": {},
   "source": [
    "### 4. Download a file\n",
    "\n",
    "We can donwload a single file in the dataset by using the name of a file. For example `'CsEmspier_01052017-01052019_from_NLWKN.txt'`. \n",
    "\n",
    "> The `path` parameter can be used to define where to store the file, otherwise the file will be store in the working directory.\n"
   ]
  },
  {
   "cell_type": "code",
   "execution_count": 6,
   "id": "71a25448",
   "metadata": {},
   "outputs": [
    {
     "data": {
      "text/plain": [
       "'CsEmspier_01052017-01052019_from_NLWKN.txt'"
      ]
     },
     "execution_count": 6,
     "metadata": {},
     "output_type": "execute_result"
    }
   ],
   "source": [
    "# Select a file from the dataset\n",
    "single_file =  dataset.files['CsEmspier_01052017-01052019_from_NLWKN.txt']\n",
    "\n",
    "# download the file\n",
    "fourtu.download_file(single_file)"
   ]
  },
  {
   "cell_type": "markdown",
   "id": "d7351589",
   "metadata": {},
   "source": [
    "### 5. Download a dataset\n",
    "\n",
    "We can download all files and metadata of a dataset using the `store()` function. We need to provide a path to a directory to store the dataset. If the directory does not exist, it would be created."
   ]
  },
  {
   "cell_type": "code",
   "execution_count": 10,
   "id": "506d536b-53f0-482a-95e3-1d37eb5c3676",
   "metadata": {},
   "outputs": [
    {
     "ename": "ValueError",
     "evalue": "",
     "output_type": "error",
     "traceback": [
      "\u001b[0;31m---------------------------------------------------------------------------\u001b[0m",
      "\u001b[0;31mTypeError\u001b[0m                                 Traceback (most recent call last)",
      "File \u001b[0;32m~/Documents/devel/JupyterFAIR-docs/venv/lib/python3.10/site-packages/fairly/metadata.py:84\u001b[0m, in \u001b[0;36mMetadata._get_value\u001b[0;34m(self, key, val)\u001b[0m\n\u001b[1;32m     83\u001b[0m \u001b[39mtry\u001b[39;00m:\n\u001b[0;32m---> 84\u001b[0m     val \u001b[39m=\u001b[39m [Author(\u001b[39m*\u001b[39m\u001b[39m*\u001b[39mauthor) \u001b[39mfor\u001b[39;00m author \u001b[39min\u001b[39;00m \u001b[39miter\u001b[39m(val)]\n\u001b[1;32m     85\u001b[0m \u001b[39mexcept\u001b[39;00m \u001b[39mTypeError\u001b[39;00m:\n",
      "File \u001b[0;32m~/Documents/devel/JupyterFAIR-docs/venv/lib/python3.10/site-packages/fairly/metadata.py:84\u001b[0m, in \u001b[0;36m<listcomp>\u001b[0;34m(.0)\u001b[0m\n\u001b[1;32m     83\u001b[0m \u001b[39mtry\u001b[39;00m:\n\u001b[0;32m---> 84\u001b[0m     val \u001b[39m=\u001b[39m [Author(\u001b[39m*\u001b[39m\u001b[39m*\u001b[39mauthor) \u001b[39mfor\u001b[39;00m author \u001b[39min\u001b[39;00m \u001b[39miter\u001b[39m(val)]\n\u001b[1;32m     85\u001b[0m \u001b[39mexcept\u001b[39;00m \u001b[39mTypeError\u001b[39;00m:\n",
      "\u001b[0;31mTypeError\u001b[0m: fairly.author.Author() argument after ** must be a mapping, not Author",
      "\nDuring handling of the above exception, another exception occurred:\n",
      "\u001b[0;31mValueError\u001b[0m                                Traceback (most recent call last)",
      "\u001b[1;32m/home/manuel/Documents/devel/JupyterFAIR-docs/docs/package/demo-4tu.ipynb Cell 12\u001b[0m in \u001b[0;36m<cell line: 2>\u001b[0;34m()\u001b[0m\n\u001b[1;32m      <a href='vscode-notebook-cell:/home/manuel/Documents/devel/JupyterFAIR-docs/docs/package/demo-4tu.ipynb#X14sZmlsZQ%3D%3D?line=0'>1</a>\u001b[0m \u001b[39m# This will download about 278 MBs\u001b[39;00m\n\u001b[0;32m----> <a href='vscode-notebook-cell:/home/manuel/Documents/devel/JupyterFAIR-docs/docs/package/demo-4tu.ipynb#X14sZmlsZQ%3D%3D?line=1'>2</a>\u001b[0m dataset\u001b[39m.\u001b[39;49mstore(\u001b[39m\"\u001b[39;49m\u001b[39m./edom\u001b[39;49m\u001b[39m\"\u001b[39;49m)\n",
      "File \u001b[0;32m~/Documents/devel/JupyterFAIR-docs/venv/lib/python3.10/site-packages/fairly/dataset/remote.py:79\u001b[0m, in \u001b[0;36mRemoteDataset.store\u001b[0;34m(self, path, notify, extract)\u001b[0m\n\u001b[1;32m     77\u001b[0m dataset \u001b[39m=\u001b[39m LocalDataset(path)\n\u001b[1;32m     78\u001b[0m \u001b[39m# TODO: Set metadata directly without serialization\u001b[39;00m\n\u001b[0;32m---> 79\u001b[0m dataset\u001b[39m.\u001b[39;49mset_metadata(\u001b[39m*\u001b[39;49m\u001b[39m*\u001b[39;49m\u001b[39mself\u001b[39;49m\u001b[39m.\u001b[39;49mmetadata\u001b[39m.\u001b[39;49mserialize())\n\u001b[1;32m     81\u001b[0m includes \u001b[39m=\u001b[39m dataset\u001b[39m.\u001b[39mincludes\n\u001b[1;32m     82\u001b[0m \u001b[39mfor\u001b[39;00m name, file \u001b[39min\u001b[39;00m \u001b[39mself\u001b[39m\u001b[39m.\u001b[39mfiles\u001b[39m.\u001b[39mitems():\n",
      "File \u001b[0;32m~/Documents/devel/JupyterFAIR-docs/venv/lib/python3.10/site-packages/fairly/dataset/__init__.py:49\u001b[0m, in \u001b[0;36mDataset.set_metadata\u001b[0;34m(self, **kwargs)\u001b[0m\n\u001b[1;32m     47\u001b[0m \u001b[39mdef\u001b[39;00m \u001b[39mset_metadata\u001b[39m(\u001b[39mself\u001b[39m, \u001b[39m*\u001b[39m\u001b[39m*\u001b[39mkwargs) \u001b[39m-\u001b[39m\u001b[39m>\u001b[39m \u001b[39mNone\u001b[39;00m:\n\u001b[1;32m     48\u001b[0m     \u001b[39m# Create metadata to be updated\u001b[39;00m\n\u001b[0;32m---> 49\u001b[0m     metadata \u001b[39m=\u001b[39m Metadata(\u001b[39m*\u001b[39;49m\u001b[39m*\u001b[39;49mkwargs)\n\u001b[1;32m     50\u001b[0m     \u001b[39m# Set metadata\u001b[39;00m\n\u001b[1;32m     51\u001b[0m     \u001b[39mself\u001b[39m\u001b[39m.\u001b[39m_set_metadata(metadata)\n",
      "File \u001b[0;32m~/Documents/devel/JupyterFAIR-docs/venv/lib/python3.10/site-packages/fairly/metadata.py:19\u001b[0m, in \u001b[0;36mMetadata.__init__\u001b[0;34m(self, **kwargs)\u001b[0m\n\u001b[1;32m     17\u001b[0m \u001b[39mfor\u001b[39;00m key, val \u001b[39min\u001b[39;00m kwargs\u001b[39m.\u001b[39mitems():\n\u001b[1;32m     18\u001b[0m     \u001b[39mif\u001b[39;00m \u001b[39mbool\u001b[39m(val) \u001b[39mor\u001b[39;00m \u001b[39misinstance\u001b[39m(val, (\u001b[39mbool\u001b[39m, \u001b[39mint\u001b[39m, \u001b[39mfloat\u001b[39m)):\n\u001b[0;32m---> 19\u001b[0m         attrs[key] \u001b[39m=\u001b[39m \u001b[39mself\u001b[39;49m\u001b[39m.\u001b[39;49m_get_value(key, val)\n\u001b[1;32m     20\u001b[0m \u001b[39mself\u001b[39m\u001b[39m.\u001b[39m\u001b[39m__dict__\u001b[39m\u001b[39m.\u001b[39mupdate(\u001b[39m*\u001b[39m\u001b[39m*\u001b[39mattrs)\n",
      "File \u001b[0;32m~/Documents/devel/JupyterFAIR-docs/venv/lib/python3.10/site-packages/fairly/metadata.py:86\u001b[0m, in \u001b[0;36mMetadata._get_value\u001b[0;34m(self, key, val)\u001b[0m\n\u001b[1;32m     84\u001b[0m         val \u001b[39m=\u001b[39m [Author(\u001b[39m*\u001b[39m\u001b[39m*\u001b[39mauthor) \u001b[39mfor\u001b[39;00m author \u001b[39min\u001b[39;00m \u001b[39miter\u001b[39m(val)]\n\u001b[1;32m     85\u001b[0m     \u001b[39mexcept\u001b[39;00m \u001b[39mTypeError\u001b[39;00m:\n\u001b[0;32m---> 86\u001b[0m         \u001b[39mraise\u001b[39;00m \u001b[39mValueError\u001b[39;00m\n\u001b[1;32m     87\u001b[0m \u001b[39mreturn\u001b[39;00m val\n",
      "\u001b[0;31mValueError\u001b[0m: "
     ]
    }
   ],
   "source": [
    "# This will download about 278 MBs\n",
    "dataset.store(\"./edom\")\n",
    "\n"
   ]
  }
 ],
 "metadata": {
  "kernelspec": {
   "display_name": "Python 3.10.4 ('venv': venv)",
   "language": "python",
   "name": "python3"
  },
  "language_info": {
   "codemirror_mode": {
    "name": "ipython",
    "version": 3
   },
   "file_extension": ".py",
   "mimetype": "text/x-python",
   "name": "python",
   "nbconvert_exporter": "python",
   "pygments_lexer": "ipython3",
   "version": "3.10.4"
  },
  "vscode": {
   "interpreter": {
    "hash": "7d5fcea36288094484ea4026c704bd47a44b80f0a87a063450ae6a7b7e01ed32"
   }
  }
 },
 "nbformat": 4,
 "nbformat_minor": 5
}
