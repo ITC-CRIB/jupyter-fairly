{
 "cells": [
  {
   "cell_type": "markdown",
   "metadata": {},
   "source": [
    "# Archiving Dataset\n",
    "\n",
    "With **fairly**, we can remotely archive and edit datasets in a user account. Users can prepare a dataset for archiving by editing metadata, defining which files are part of a dataset, and uploading them to a data repository. One of the purposes of **fairly** is to *remove the need of preparing metadata and data for every repository to which a dataset will be archived*. Therefore, saving time and effort, and lowering the barries for practicing open science.\n",
    "This tutorial shows what is possible using the 4TU.ResearchData repository. The procedure is the same for Zenodo.\n",
    "\n",
    "**Requirements:**\n",
    "\n",
    "* A 4TU.ReseachData account\n",
    "* A personal access token. See `access token`_ if don't have one.\n",
    "* Files to be archived. We will use a hypothetical case in this tutorial.\n",
    "\n",
    "> For this toturial, we will assume that our goal is to archive a dataset that we previously archived in Zenodo, in an account in 4TU.ReseachData. We will use the dataset [Quality and timing of crowd-based water level class observations](https://zenodo.org/record/3929547#.YwdoitJBy3c), used in a previous tutorial as our starting point.\n",
    "   "
   ]
  },
  {
   "cell_type": "markdown",
   "metadata": {},
   "source": [
    "## 1. Download the Zenodo dataset\n",
    "\n",
    "First, we will download the [Quality and timing of crowd-based water level class observations](https://zenodo.org/record/3929547#.YwdoitJBy3c), using its ID: `3929547`"
   ]
  },
  {
   "cell_type": "code",
   "execution_count": 5,
   "metadata": {},
   "outputs": [
    {
     "ename": "KeyError",
     "evalue": "'notes'",
     "output_type": "error",
     "traceback": [
      "\u001b[0;31m---------------------------------------------------------------------------\u001b[0m",
      "\u001b[0;31mKeyError\u001b[0m                                  Traceback (most recent call last)",
      "\u001b[1;32m/home/manuel/Documents/devel/osf-demo/archiving-datasets.ipynb Cell 3\u001b[0m in \u001b[0;36m<cell line: 10>\u001b[0;34m()\u001b[0m\n\u001b[1;32m      <a href='vscode-notebook-cell:/home/manuel/Documents/devel/osf-demo/archiving-datasets.ipynb#W6sZmlsZQ%3D%3D?line=6'>7</a>\u001b[0m dataset \u001b[39m=\u001b[39m zenodo\u001b[39m.\u001b[39mget_dataset(\u001b[39m\"\u001b[39m\u001b[39m3929547\u001b[39m\u001b[39m\"\u001b[39m) \n\u001b[1;32m      <a href='vscode-notebook-cell:/home/manuel/Documents/devel/osf-demo/archiving-datasets.ipynb#W6sZmlsZQ%3D%3D?line=8'>9</a>\u001b[0m \u001b[39m# download dataset to the ./quality directory\u001b[39;00m\n\u001b[0;32m---> <a href='vscode-notebook-cell:/home/manuel/Documents/devel/osf-demo/archiving-datasets.ipynb#W6sZmlsZQ%3D%3D?line=9'>10</a>\u001b[0m dataset\u001b[39m.\u001b[39;49mstore(\u001b[39m\"\u001b[39;49m\u001b[39m./quality\u001b[39;49m\u001b[39m\"\u001b[39;49m)\n",
      "File \u001b[0;32m~/Documents/devel/osf-demo/venv/lib/python3.10/site-packages/fairly/dataset/remote.py:88\u001b[0m, in \u001b[0;36mRemoteDataset.store\u001b[0;34m(self, path, notify, extract)\u001b[0m\n\u001b[1;32m     86\u001b[0m dataset \u001b[39m=\u001b[39m LocalDataset(path)\n\u001b[1;32m     87\u001b[0m \u001b[39m# TODO: Set metadata directly without serialization\u001b[39;00m\n\u001b[0;32m---> 88\u001b[0m dataset\u001b[39m.\u001b[39mset_metadata(\u001b[39m*\u001b[39m\u001b[39m*\u001b[39m\u001b[39mself\u001b[39;49m\u001b[39m.\u001b[39;49mmetadata\u001b[39m.\u001b[39mserialize())\n\u001b[1;32m     90\u001b[0m includes \u001b[39m=\u001b[39m dataset\u001b[39m.\u001b[39mincludes\n\u001b[1;32m     91\u001b[0m \u001b[39mfor\u001b[39;00m name, file \u001b[39min\u001b[39;00m \u001b[39mself\u001b[39m\u001b[39m.\u001b[39mfiles\u001b[39m.\u001b[39mitems():\n",
      "File \u001b[0;32m~/Documents/devel/osf-demo/venv/lib/python3.10/site-packages/fairly/dataset/__init__.py:51\u001b[0m, in \u001b[0;36mDataset.metadata\u001b[0;34m(self)\u001b[0m\n\u001b[1;32m     48\u001b[0m \u001b[39m@property\u001b[39m\n\u001b[1;32m     49\u001b[0m \u001b[39mdef\u001b[39;00m \u001b[39mmetadata\u001b[39m(\u001b[39mself\u001b[39m) \u001b[39m-\u001b[39m\u001b[39m>\u001b[39m Metadata:\n\u001b[1;32m     50\u001b[0m     \u001b[39m\"\"\"Metadata of the dataset\"\"\"\u001b[39;00m\n\u001b[0;32m---> 51\u001b[0m     \u001b[39mreturn\u001b[39;00m \u001b[39mself\u001b[39;49m\u001b[39m.\u001b[39;49mget_metadata()\n",
      "File \u001b[0;32m~/Documents/devel/osf-demo/venv/lib/python3.10/site-packages/fairly/dataset/__init__.py:44\u001b[0m, in \u001b[0;36mDataset.get_metadata\u001b[0;34m(self, refresh)\u001b[0m\n\u001b[1;32m     35\u001b[0m \u001b[39m\"\"\"Returns metadata of the dataset\u001b[39;00m\n\u001b[1;32m     36\u001b[0m \n\u001b[1;32m     37\u001b[0m \u001b[39mArguments:\u001b[39;00m\n\u001b[0;32m   (...)\u001b[0m\n\u001b[1;32m     41\u001b[0m \u001b[39m    Metadata of the dataset\u001b[39;00m\n\u001b[1;32m     42\u001b[0m \u001b[39m\"\"\"\u001b[39;00m\n\u001b[1;32m     43\u001b[0m \u001b[39mif\u001b[39;00m \u001b[39mself\u001b[39m\u001b[39m.\u001b[39m_metadata \u001b[39mis\u001b[39;00m \u001b[39mNone\u001b[39;00m \u001b[39mor\u001b[39;00m refresh:\n\u001b[0;32m---> 44\u001b[0m     \u001b[39mself\u001b[39m\u001b[39m.\u001b[39m_metadata \u001b[39m=\u001b[39m \u001b[39mself\u001b[39;49m\u001b[39m.\u001b[39;49m_get_metadata()\n\u001b[1;32m     45\u001b[0m \u001b[39mreturn\u001b[39;00m \u001b[39mself\u001b[39m\u001b[39m.\u001b[39m_metadata\n",
      "File \u001b[0;32m~/Documents/devel/osf-demo/venv/lib/python3.10/site-packages/fairly/dataset/remote.py:53\u001b[0m, in \u001b[0;36mRemoteDataset._get_metadata\u001b[0;34m(self)\u001b[0m\n\u001b[1;32m     52\u001b[0m \u001b[39mdef\u001b[39;00m \u001b[39m_get_metadata\u001b[39m(\u001b[39mself\u001b[39m) \u001b[39m-\u001b[39m\u001b[39m>\u001b[39m Metadata:\n\u001b[0;32m---> 53\u001b[0m     \u001b[39mreturn\u001b[39;00m \u001b[39mself\u001b[39;49m\u001b[39m.\u001b[39;49mclient\u001b[39m.\u001b[39;49mget_metadata(\u001b[39mself\u001b[39;49m\u001b[39m.\u001b[39;49mid)\n",
      "File \u001b[0;32m~/Documents/devel/osf-demo/venv/lib/python3.10/site-packages/fairly/client/zenodo.py:401\u001b[0m, in \u001b[0;36mZenodoClient.get_metadata\u001b[0;34m(self, id)\u001b[0m\n\u001b[1;32m    395\u001b[0m metadata \u001b[39m=\u001b[39m {\n\u001b[1;32m    396\u001b[0m }\n\u001b[1;32m    398\u001b[0m \u001b[39m# Set repository-specific metadata fields\u001b[39;00m\n\u001b[1;32m    399\u001b[0m metadata[\u001b[39m\"\u001b[39m\u001b[39mzenodo\u001b[39m\u001b[39m\"\u001b[39m] \u001b[39m=\u001b[39m {\n\u001b[1;32m    400\u001b[0m     \u001b[39m\"\u001b[39m\u001b[39mprereserve_doi\u001b[39m\u001b[39m\"\u001b[39m: _metadata[\u001b[39m\"\u001b[39m\u001b[39mprereserve_doi\u001b[39m\u001b[39m\"\u001b[39m],\n\u001b[0;32m--> 401\u001b[0m     \u001b[39m\"\u001b[39m\u001b[39mnotes\u001b[39m\u001b[39m\"\u001b[39m: _metadata[\u001b[39m\"\u001b[39;49m\u001b[39mnotes\u001b[39;49m\u001b[39m\"\u001b[39;49m],\n\u001b[1;32m    402\u001b[0m     \u001b[39m\"\u001b[39m\u001b[39mrelated_identifiers\u001b[39m\u001b[39m\"\u001b[39m: _metadata[\u001b[39m\"\u001b[39m\u001b[39mrelated_identifiers\u001b[39m\u001b[39m\"\u001b[39m],\n\u001b[1;32m    403\u001b[0m     \u001b[39m\"\u001b[39m\u001b[39mcontributors\u001b[39m\u001b[39m\"\u001b[39m: _metadata[\u001b[39m\"\u001b[39m\u001b[39mcontributors\u001b[39m\u001b[39m\"\u001b[39m],\n\u001b[1;32m    404\u001b[0m }\n\u001b[1;32m    406\u001b[0m \u001b[39m# Set thesis metadata fields if required\u001b[39;00m\n\u001b[1;32m    407\u001b[0m \u001b[39mif\u001b[39;00m _metadata[\u001b[39m\"\u001b[39m\u001b[39mpublication_type\u001b[39m\u001b[39m\"\u001b[39m] \u001b[39m==\u001b[39m \u001b[39m\"\u001b[39m\u001b[39mthesis\u001b[39m\u001b[39m\"\u001b[39m:\n",
      "\u001b[0;31mKeyError\u001b[0m: 'notes'"
     ]
    }
   ],
   "source": [
    "from fairly import client\n",
    "\n",
    "# create a zenodo client\n",
    "zenodo = client(id=\"zenodo\")\n",
    "\n",
    "# connect to dataset\n",
    "dataset = zenodo.get_dataset(\"3929547\") \n",
    "\n",
    "# download dataset to a directory\n",
    "dataset.store(\"./from-zenodo\")"
   ]
  },
  {
   "cell_type": "markdown",
   "metadata": {},
   "source": [
    "## 2. Connect to the 4TU.ResearchData account\n",
    "\n",
    "To connect to an account, simply pass a personal token when creating a client."
   ]
  },
  {
   "cell_type": "code",
   "execution_count": 6,
   "metadata": {},
   "outputs": [],
   "source": [
    "from fairly import client\n",
    "\n",
    "fourtu = client(id=\"figshare\", token=\"824bb04e551a8e66d7764ced7b9562504782d458a73b772b4162c553640e4a47bda6a39b84a78e7ae15d049b161799a56928158a03198480d9aa697beec0c095\")"
   ]
  },
  {
   "cell_type": "markdown",
   "metadata": {},
   "source": [
    "## 3. "
   ]
  }
 ],
 "metadata": {
  "kernelspec": {
   "display_name": "Python 3.10.4 ('venv': venv)",
   "language": "python",
   "name": "python3"
  },
  "language_info": {
   "codemirror_mode": {
    "name": "ipython",
    "version": 3
   },
   "file_extension": ".py",
   "mimetype": "text/x-python",
   "name": "python",
   "nbconvert_exporter": "python",
   "pygments_lexer": "ipython3",
   "version": "3.10.4"
  },
  "orig_nbformat": 4,
  "vscode": {
   "interpreter": {
    "hash": "262683ceb590c1664a72ae4b5fb24aafe692d2539af9aafb5e1323673742110e"
   }
  }
 },
 "nbformat": 4,
 "nbformat_minor": 2
}
