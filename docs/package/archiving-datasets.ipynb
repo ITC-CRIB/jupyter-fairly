{
 "cells": [
  {
   "cell_type": "markdown",
   "metadata": {},
   "source": [
    "# Archiving Dataset\n",
    "\n",
    "With **fairly**, we can remotely archive and edit datasets in a user account. Users can prepare a dataset for archiving by editing metadata, defining which files are part of a dataset, and uploading them to a data repository. One of the purposes of **fairly** is to *remove the need of preparing metadata and data for every repository to which a dataset will be archived*. Therefore, saving time and effort, and lowering the barries for practicing open science.\n",
    "This tutorial shows what is possible using the 4TU.ResearchData repository. The procedure is the same for Zenodo.\n",
    "\n",
    "**Requirements:**\n",
    "\n",
    "* A 4TU.ReseachData account\n",
    "* A personal access token. See [configuring access token](https://jupyterfair.readthedocs.io/en/latest/package/account-token.html) if you don't have one.\n",
    "* Files to be archived. We will use a hypothetical case in this tutorial.\n",
    "\n",
    "> For this toturial, we assume that our goal is to archive a dataset that we previously archived in Zenodo, to an account in 4TU.ReseachData. We will use the dataset [Quality and timing of crowd-based water level class observations](https://zenodo.org/record/3929547#.YwdoitJBy3c), as an example.\n",
    "   "
   ]
  },
  {
   "cell_type": "markdown",
   "metadata": {},
   "source": [
    "## 1. Download the Zenodo dataset\n",
    "\n",
    "First, we will download the [Quality and timing of crowd-based water level class observations](https://zenodo.org/record/3929547#.YwdoitJBy3c), using its URL."
   ]
  },
  {
   "cell_type": "code",
   "execution_count": 21,
   "metadata": {},
   "outputs": [],
   "source": [
    "import fairly\n",
    "\n",
    "# create a zenodo client\n",
    "zenodo = fairly.client(id=\"zenodo\")\n",
    "\n",
    "# connect to a dataset\n",
    "source_dataset = zenodo.get_dataset(\"https://zenodo.org/record/3929547#.YxAeJNJBxhF\") \n",
    "\n",
    "# download dataset to a directory\n",
    "# zen_dataset.store(\"./from-zenodo\")"
   ]
  },
  {
   "cell_type": "markdown",
   "metadata": {},
   "source": [
    "## 2. Editing Metadata\n",
    "\n",
    "If we wish, we could edit the metadata of a dataset as following. Fow example, we can add some keywords.  "
   ]
  },
  {
   "cell_type": "code",
   "execution_count": 22,
   "metadata": {},
   "outputs": [
    {
     "ename": "KeyError",
     "evalue": "'notes'",
     "output_type": "error",
     "traceback": [
      "\u001b[0;31m---------------------------------------------------------------------------\u001b[0m",
      "\u001b[0;31mKeyError\u001b[0m                                  Traceback (most recent call last)",
      "\u001b[1;32m/home/manuel/Documents/devel/osf-demo/archiving-datasets.ipynb Cell 5\u001b[0m in \u001b[0;36m<cell line: 2>\u001b[0;34m()\u001b[0m\n\u001b[1;32m      <a href='vscode-notebook-cell:/home/manuel/Documents/devel/osf-demo/archiving-datasets.ipynb#X14sZmlsZQ%3D%3D?line=0'>1</a>\u001b[0m \u001b[39m# zenodo dataset metadata\u001b[39;00m\n\u001b[0;32m----> <a href='vscode-notebook-cell:/home/manuel/Documents/devel/osf-demo/archiving-datasets.ipynb#X14sZmlsZQ%3D%3D?line=1'>2</a>\u001b[0m \u001b[39mprint\u001b[39m(source_dataset\u001b[39m.\u001b[39;49mmetadata)\n",
      "File \u001b[0;32m~/Documents/devel/osf-demo/venv/lib/python3.10/site-packages/fairly/dataset/__init__.py:51\u001b[0m, in \u001b[0;36mDataset.metadata\u001b[0;34m(self)\u001b[0m\n\u001b[1;32m     48\u001b[0m \u001b[39m@property\u001b[39m\n\u001b[1;32m     49\u001b[0m \u001b[39mdef\u001b[39;00m \u001b[39mmetadata\u001b[39m(\u001b[39mself\u001b[39m) \u001b[39m-\u001b[39m\u001b[39m>\u001b[39m Metadata:\n\u001b[1;32m     50\u001b[0m     \u001b[39m\"\"\"Metadata of the dataset\"\"\"\u001b[39;00m\n\u001b[0;32m---> 51\u001b[0m     \u001b[39mreturn\u001b[39;00m \u001b[39mself\u001b[39;49m\u001b[39m.\u001b[39;49mget_metadata()\n",
      "File \u001b[0;32m~/Documents/devel/osf-demo/venv/lib/python3.10/site-packages/fairly/dataset/__init__.py:44\u001b[0m, in \u001b[0;36mDataset.get_metadata\u001b[0;34m(self, refresh)\u001b[0m\n\u001b[1;32m     35\u001b[0m \u001b[39m\"\"\"Returns metadata of the dataset\u001b[39;00m\n\u001b[1;32m     36\u001b[0m \n\u001b[1;32m     37\u001b[0m \u001b[39mArguments:\u001b[39;00m\n\u001b[0;32m   (...)\u001b[0m\n\u001b[1;32m     41\u001b[0m \u001b[39m    Metadata of the dataset\u001b[39;00m\n\u001b[1;32m     42\u001b[0m \u001b[39m\"\"\"\u001b[39;00m\n\u001b[1;32m     43\u001b[0m \u001b[39mif\u001b[39;00m \u001b[39mself\u001b[39m\u001b[39m.\u001b[39m_metadata \u001b[39mis\u001b[39;00m \u001b[39mNone\u001b[39;00m \u001b[39mor\u001b[39;00m refresh:\n\u001b[0;32m---> 44\u001b[0m     \u001b[39mself\u001b[39m\u001b[39m.\u001b[39m_metadata \u001b[39m=\u001b[39m \u001b[39mself\u001b[39;49m\u001b[39m.\u001b[39;49m_get_metadata()\n\u001b[1;32m     45\u001b[0m \u001b[39mreturn\u001b[39;00m \u001b[39mself\u001b[39m\u001b[39m.\u001b[39m_metadata\n",
      "File \u001b[0;32m~/Documents/devel/osf-demo/venv/lib/python3.10/site-packages/fairly/dataset/remote.py:53\u001b[0m, in \u001b[0;36mRemoteDataset._get_metadata\u001b[0;34m(self)\u001b[0m\n\u001b[1;32m     52\u001b[0m \u001b[39mdef\u001b[39;00m \u001b[39m_get_metadata\u001b[39m(\u001b[39mself\u001b[39m) \u001b[39m-\u001b[39m\u001b[39m>\u001b[39m Metadata:\n\u001b[0;32m---> 53\u001b[0m     \u001b[39mreturn\u001b[39;00m \u001b[39mself\u001b[39;49m\u001b[39m.\u001b[39;49mclient\u001b[39m.\u001b[39;49mget_metadata(\u001b[39mself\u001b[39;49m\u001b[39m.\u001b[39;49mid)\n",
      "File \u001b[0;32m~/Documents/devel/osf-demo/venv/lib/python3.10/site-packages/fairly/client/zenodo.py:401\u001b[0m, in \u001b[0;36mZenodoClient.get_metadata\u001b[0;34m(self, id)\u001b[0m\n\u001b[1;32m    395\u001b[0m metadata \u001b[39m=\u001b[39m {\n\u001b[1;32m    396\u001b[0m }\n\u001b[1;32m    398\u001b[0m \u001b[39m# Set repository-specific metadata fields\u001b[39;00m\n\u001b[1;32m    399\u001b[0m metadata[\u001b[39m\"\u001b[39m\u001b[39mzenodo\u001b[39m\u001b[39m\"\u001b[39m] \u001b[39m=\u001b[39m {\n\u001b[1;32m    400\u001b[0m     \u001b[39m\"\u001b[39m\u001b[39mprereserve_doi\u001b[39m\u001b[39m\"\u001b[39m: _metadata[\u001b[39m\"\u001b[39m\u001b[39mprereserve_doi\u001b[39m\u001b[39m\"\u001b[39m],\n\u001b[0;32m--> 401\u001b[0m     \u001b[39m\"\u001b[39m\u001b[39mnotes\u001b[39m\u001b[39m\"\u001b[39m: _metadata[\u001b[39m\"\u001b[39;49m\u001b[39mnotes\u001b[39;49m\u001b[39m\"\u001b[39;49m],\n\u001b[1;32m    402\u001b[0m     \u001b[39m\"\u001b[39m\u001b[39mrelated_identifiers\u001b[39m\u001b[39m\"\u001b[39m: _metadata[\u001b[39m\"\u001b[39m\u001b[39mrelated_identifiers\u001b[39m\u001b[39m\"\u001b[39m],\n\u001b[1;32m    403\u001b[0m     \u001b[39m\"\u001b[39m\u001b[39mcontributors\u001b[39m\u001b[39m\"\u001b[39m: _metadata[\u001b[39m\"\u001b[39m\u001b[39mcontributors\u001b[39m\u001b[39m\"\u001b[39m],\n\u001b[1;32m    404\u001b[0m }\n\u001b[1;32m    406\u001b[0m \u001b[39m# Set thesis metadata fields if required\u001b[39;00m\n\u001b[1;32m    407\u001b[0m \u001b[39mif\u001b[39;00m _metadata[\u001b[39m\"\u001b[39m\u001b[39mpublication_type\u001b[39m\u001b[39m\"\u001b[39m] \u001b[39m==\u001b[39m \u001b[39m\"\u001b[39m\u001b[39mthesis\u001b[39m\u001b[39m\"\u001b[39m:\n",
      "\u001b[0;31mKeyError\u001b[0m: 'notes'"
     ]
    }
   ],
   "source": [
    "# zenodo dataset metadata\n",
    "print(source_dataset.metadata)"
   ]
  },
  {
   "cell_type": "code",
   "execution_count": 25,
   "metadata": {},
   "outputs": [
    {
     "ename": "KeyError",
     "evalue": "'notes'",
     "output_type": "error",
     "traceback": [
      "\u001b[0;31m---------------------------------------------------------------------------\u001b[0m",
      "\u001b[0;31mKeyError\u001b[0m                                  Traceback (most recent call last)",
      "\u001b[1;32m/home/manuel/Documents/devel/osf-demo/archiving-datasets.ipynb Cell 6\u001b[0m in \u001b[0;36m<cell line: 2>\u001b[0;34m()\u001b[0m\n\u001b[1;32m      <a href='vscode-notebook-cell:/home/manuel/Documents/devel/osf-demo/archiving-datasets.ipynb#X15sZmlsZQ%3D%3D?line=0'>1</a>\u001b[0m \u001b[39m# edit keyworkds\u001b[39;00m\n\u001b[0;32m----> <a href='vscode-notebook-cell:/home/manuel/Documents/devel/osf-demo/archiving-datasets.ipynb#X15sZmlsZQ%3D%3D?line=1'>2</a>\u001b[0m source_dataset\u001b[39m.\u001b[39;49mmetadata[\u001b[39m\"\u001b[39m\u001b[39mkeywords\u001b[39m\u001b[39m\"\u001b[39m] \u001b[39m=\u001b[39m [\u001b[39m\"\u001b[39m\u001b[39mCrowdWater\u001b[39m\u001b[39m\"\u001b[39m, \u001b[39m\"\u001b[39m\u001b[39mHydrology\u001b[39m\u001b[39m\"\u001b[39m, \u001b[39m\"\u001b[39m\u001b[39mfairly\u001b[39m\u001b[39m\"\u001b[39m]\n",
      "File \u001b[0;32m~/Documents/devel/osf-demo/venv/lib/python3.10/site-packages/fairly/dataset/__init__.py:51\u001b[0m, in \u001b[0;36mDataset.metadata\u001b[0;34m(self)\u001b[0m\n\u001b[1;32m     48\u001b[0m \u001b[39m@property\u001b[39m\n\u001b[1;32m     49\u001b[0m \u001b[39mdef\u001b[39;00m \u001b[39mmetadata\u001b[39m(\u001b[39mself\u001b[39m) \u001b[39m-\u001b[39m\u001b[39m>\u001b[39m Metadata:\n\u001b[1;32m     50\u001b[0m     \u001b[39m\"\"\"Metadata of the dataset\"\"\"\u001b[39;00m\n\u001b[0;32m---> 51\u001b[0m     \u001b[39mreturn\u001b[39;00m \u001b[39mself\u001b[39;49m\u001b[39m.\u001b[39;49mget_metadata()\n",
      "File \u001b[0;32m~/Documents/devel/osf-demo/venv/lib/python3.10/site-packages/fairly/dataset/__init__.py:44\u001b[0m, in \u001b[0;36mDataset.get_metadata\u001b[0;34m(self, refresh)\u001b[0m\n\u001b[1;32m     35\u001b[0m \u001b[39m\"\"\"Returns metadata of the dataset\u001b[39;00m\n\u001b[1;32m     36\u001b[0m \n\u001b[1;32m     37\u001b[0m \u001b[39mArguments:\u001b[39;00m\n\u001b[0;32m   (...)\u001b[0m\n\u001b[1;32m     41\u001b[0m \u001b[39m    Metadata of the dataset\u001b[39;00m\n\u001b[1;32m     42\u001b[0m \u001b[39m\"\"\"\u001b[39;00m\n\u001b[1;32m     43\u001b[0m \u001b[39mif\u001b[39;00m \u001b[39mself\u001b[39m\u001b[39m.\u001b[39m_metadata \u001b[39mis\u001b[39;00m \u001b[39mNone\u001b[39;00m \u001b[39mor\u001b[39;00m refresh:\n\u001b[0;32m---> 44\u001b[0m     \u001b[39mself\u001b[39m\u001b[39m.\u001b[39m_metadata \u001b[39m=\u001b[39m \u001b[39mself\u001b[39;49m\u001b[39m.\u001b[39;49m_get_metadata()\n\u001b[1;32m     45\u001b[0m \u001b[39mreturn\u001b[39;00m \u001b[39mself\u001b[39m\u001b[39m.\u001b[39m_metadata\n",
      "File \u001b[0;32m~/Documents/devel/osf-demo/venv/lib/python3.10/site-packages/fairly/dataset/remote.py:53\u001b[0m, in \u001b[0;36mRemoteDataset._get_metadata\u001b[0;34m(self)\u001b[0m\n\u001b[1;32m     52\u001b[0m \u001b[39mdef\u001b[39;00m \u001b[39m_get_metadata\u001b[39m(\u001b[39mself\u001b[39m) \u001b[39m-\u001b[39m\u001b[39m>\u001b[39m Metadata:\n\u001b[0;32m---> 53\u001b[0m     \u001b[39mreturn\u001b[39;00m \u001b[39mself\u001b[39;49m\u001b[39m.\u001b[39;49mclient\u001b[39m.\u001b[39;49mget_metadata(\u001b[39mself\u001b[39;49m\u001b[39m.\u001b[39;49mid)\n",
      "File \u001b[0;32m~/Documents/devel/osf-demo/venv/lib/python3.10/site-packages/fairly/client/zenodo.py:401\u001b[0m, in \u001b[0;36mZenodoClient.get_metadata\u001b[0;34m(self, id)\u001b[0m\n\u001b[1;32m    395\u001b[0m metadata \u001b[39m=\u001b[39m {\n\u001b[1;32m    396\u001b[0m }\n\u001b[1;32m    398\u001b[0m \u001b[39m# Set repository-specific metadata fields\u001b[39;00m\n\u001b[1;32m    399\u001b[0m metadata[\u001b[39m\"\u001b[39m\u001b[39mzenodo\u001b[39m\u001b[39m\"\u001b[39m] \u001b[39m=\u001b[39m {\n\u001b[1;32m    400\u001b[0m     \u001b[39m\"\u001b[39m\u001b[39mprereserve_doi\u001b[39m\u001b[39m\"\u001b[39m: _metadata[\u001b[39m\"\u001b[39m\u001b[39mprereserve_doi\u001b[39m\u001b[39m\"\u001b[39m],\n\u001b[0;32m--> 401\u001b[0m     \u001b[39m\"\u001b[39m\u001b[39mnotes\u001b[39m\u001b[39m\"\u001b[39m: _metadata[\u001b[39m\"\u001b[39;49m\u001b[39mnotes\u001b[39;49m\u001b[39m\"\u001b[39;49m],\n\u001b[1;32m    402\u001b[0m     \u001b[39m\"\u001b[39m\u001b[39mrelated_identifiers\u001b[39m\u001b[39m\"\u001b[39m: _metadata[\u001b[39m\"\u001b[39m\u001b[39mrelated_identifiers\u001b[39m\u001b[39m\"\u001b[39m],\n\u001b[1;32m    403\u001b[0m     \u001b[39m\"\u001b[39m\u001b[39mcontributors\u001b[39m\u001b[39m\"\u001b[39m: _metadata[\u001b[39m\"\u001b[39m\u001b[39mcontributors\u001b[39m\u001b[39m\"\u001b[39m],\n\u001b[1;32m    404\u001b[0m }\n\u001b[1;32m    406\u001b[0m \u001b[39m# Set thesis metadata fields if required\u001b[39;00m\n\u001b[1;32m    407\u001b[0m \u001b[39mif\u001b[39;00m _metadata[\u001b[39m\"\u001b[39m\u001b[39mpublication_type\u001b[39m\u001b[39m\"\u001b[39m] \u001b[39m==\u001b[39m \u001b[39m\"\u001b[39m\u001b[39mthesis\u001b[39m\u001b[39m\"\u001b[39m:\n",
      "\u001b[0;31mKeyError\u001b[0m: 'notes'"
     ]
    }
   ],
   "source": [
    "# edit keyworkds\n",
    "source_dataset.metadata[\"keywords\"] = [\"CrowdWater\", \"Hydrology\", \"fairly\"]"
   ]
  },
  {
   "cell_type": "markdown",
   "metadata": {},
   "source": [
    "## 3. Archive to 4TU.ResearchData\n",
    "\n",
    "Now we can create a new dataset in an 4TU.ReseachData account, by doing the following. "
   ]
  },
  {
   "cell_type": "code",
   "execution_count": 27,
   "metadata": {},
   "outputs": [
    {
     "ename": "KeyError",
     "evalue": "'notes'",
     "output_type": "error",
     "traceback": [
      "\u001b[0;31m---------------------------------------------------------------------------\u001b[0m",
      "\u001b[0;31mKeyError\u001b[0m                                  Traceback (most recent call last)",
      "\u001b[1;32m/home/manuel/Documents/devel/osf-demo/archiving-datasets.ipynb Cell 8\u001b[0m in \u001b[0;36m<cell line: 8>\u001b[0;34m()\u001b[0m\n\u001b[1;32m      <a href='vscode-notebook-cell:/home/manuel/Documents/devel/osf-demo/archiving-datasets.ipynb#W4sZmlsZQ%3D%3D?line=3'>4</a>\u001b[0m fourtu \u001b[39m=\u001b[39m fairly\u001b[39m.\u001b[39mclient(\u001b[39mid\u001b[39m\u001b[39m=\u001b[39m\u001b[39m\"\u001b[39m\u001b[39mfigshare\u001b[39m\u001b[39m\"\u001b[39m, token\u001b[39m=\u001b[39m\u001b[39m\"\u001b[39m\u001b[39m824bb04e551a8e66d7764ced7b9562504782d458a73b772b4162c553640e4a47bda6a39b84a78e7ae15d049b161799a56928158a03198480d9aa697beec0c095\u001b[39m\u001b[39m\"\u001b[39m)\n\u001b[1;32m      <a href='vscode-notebook-cell:/home/manuel/Documents/devel/osf-demo/archiving-datasets.ipynb#W4sZmlsZQ%3D%3D?line=6'>7</a>\u001b[0m \u001b[39m# serialize original metadata \u001b[39;00m\n\u001b[0;32m----> <a href='vscode-notebook-cell:/home/manuel/Documents/devel/osf-demo/archiving-datasets.ipynb#W4sZmlsZQ%3D%3D?line=7'>8</a>\u001b[0m metadata \u001b[39m=\u001b[39m source_dataset\u001b[39m.\u001b[39;49mmetadata\u001b[39m.\u001b[39mserialize()\n\u001b[1;32m     <a href='vscode-notebook-cell:/home/manuel/Documents/devel/osf-demo/archiving-datasets.ipynb#W4sZmlsZQ%3D%3D?line=9'>10</a>\u001b[0m \u001b[39m# created dataset and upload metadata to 4TU.ResearchData\u001b[39;00m\n\u001b[1;32m     <a href='vscode-notebook-cell:/home/manuel/Documents/devel/osf-demo/archiving-datasets.ipynb#W4sZmlsZQ%3D%3D?line=10'>11</a>\u001b[0m fourtu\u001b[39m.\u001b[39mcreate_dataset(metadata)\n",
      "File \u001b[0;32m~/Documents/devel/osf-demo/venv/lib/python3.10/site-packages/fairly/dataset/__init__.py:51\u001b[0m, in \u001b[0;36mDataset.metadata\u001b[0;34m(self)\u001b[0m\n\u001b[1;32m     48\u001b[0m \u001b[39m@property\u001b[39m\n\u001b[1;32m     49\u001b[0m \u001b[39mdef\u001b[39;00m \u001b[39mmetadata\u001b[39m(\u001b[39mself\u001b[39m) \u001b[39m-\u001b[39m\u001b[39m>\u001b[39m Metadata:\n\u001b[1;32m     50\u001b[0m     \u001b[39m\"\"\"Metadata of the dataset\"\"\"\u001b[39;00m\n\u001b[0;32m---> 51\u001b[0m     \u001b[39mreturn\u001b[39;00m \u001b[39mself\u001b[39;49m\u001b[39m.\u001b[39;49mget_metadata()\n",
      "File \u001b[0;32m~/Documents/devel/osf-demo/venv/lib/python3.10/site-packages/fairly/dataset/__init__.py:44\u001b[0m, in \u001b[0;36mDataset.get_metadata\u001b[0;34m(self, refresh)\u001b[0m\n\u001b[1;32m     35\u001b[0m \u001b[39m\"\"\"Returns metadata of the dataset\u001b[39;00m\n\u001b[1;32m     36\u001b[0m \n\u001b[1;32m     37\u001b[0m \u001b[39mArguments:\u001b[39;00m\n\u001b[0;32m   (...)\u001b[0m\n\u001b[1;32m     41\u001b[0m \u001b[39m    Metadata of the dataset\u001b[39;00m\n\u001b[1;32m     42\u001b[0m \u001b[39m\"\"\"\u001b[39;00m\n\u001b[1;32m     43\u001b[0m \u001b[39mif\u001b[39;00m \u001b[39mself\u001b[39m\u001b[39m.\u001b[39m_metadata \u001b[39mis\u001b[39;00m \u001b[39mNone\u001b[39;00m \u001b[39mor\u001b[39;00m refresh:\n\u001b[0;32m---> 44\u001b[0m     \u001b[39mself\u001b[39m\u001b[39m.\u001b[39m_metadata \u001b[39m=\u001b[39m \u001b[39mself\u001b[39;49m\u001b[39m.\u001b[39;49m_get_metadata()\n\u001b[1;32m     45\u001b[0m \u001b[39mreturn\u001b[39;00m \u001b[39mself\u001b[39m\u001b[39m.\u001b[39m_metadata\n",
      "File \u001b[0;32m~/Documents/devel/osf-demo/venv/lib/python3.10/site-packages/fairly/dataset/remote.py:53\u001b[0m, in \u001b[0;36mRemoteDataset._get_metadata\u001b[0;34m(self)\u001b[0m\n\u001b[1;32m     52\u001b[0m \u001b[39mdef\u001b[39;00m \u001b[39m_get_metadata\u001b[39m(\u001b[39mself\u001b[39m) \u001b[39m-\u001b[39m\u001b[39m>\u001b[39m Metadata:\n\u001b[0;32m---> 53\u001b[0m     \u001b[39mreturn\u001b[39;00m \u001b[39mself\u001b[39;49m\u001b[39m.\u001b[39;49mclient\u001b[39m.\u001b[39;49mget_metadata(\u001b[39mself\u001b[39;49m\u001b[39m.\u001b[39;49mid)\n",
      "File \u001b[0;32m~/Documents/devel/osf-demo/venv/lib/python3.10/site-packages/fairly/client/zenodo.py:401\u001b[0m, in \u001b[0;36mZenodoClient.get_metadata\u001b[0;34m(self, id)\u001b[0m\n\u001b[1;32m    395\u001b[0m metadata \u001b[39m=\u001b[39m {\n\u001b[1;32m    396\u001b[0m }\n\u001b[1;32m    398\u001b[0m \u001b[39m# Set repository-specific metadata fields\u001b[39;00m\n\u001b[1;32m    399\u001b[0m metadata[\u001b[39m\"\u001b[39m\u001b[39mzenodo\u001b[39m\u001b[39m\"\u001b[39m] \u001b[39m=\u001b[39m {\n\u001b[1;32m    400\u001b[0m     \u001b[39m\"\u001b[39m\u001b[39mprereserve_doi\u001b[39m\u001b[39m\"\u001b[39m: _metadata[\u001b[39m\"\u001b[39m\u001b[39mprereserve_doi\u001b[39m\u001b[39m\"\u001b[39m],\n\u001b[0;32m--> 401\u001b[0m     \u001b[39m\"\u001b[39m\u001b[39mnotes\u001b[39m\u001b[39m\"\u001b[39m: _metadata[\u001b[39m\"\u001b[39;49m\u001b[39mnotes\u001b[39;49m\u001b[39m\"\u001b[39;49m],\n\u001b[1;32m    402\u001b[0m     \u001b[39m\"\u001b[39m\u001b[39mrelated_identifiers\u001b[39m\u001b[39m\"\u001b[39m: _metadata[\u001b[39m\"\u001b[39m\u001b[39mrelated_identifiers\u001b[39m\u001b[39m\"\u001b[39m],\n\u001b[1;32m    403\u001b[0m     \u001b[39m\"\u001b[39m\u001b[39mcontributors\u001b[39m\u001b[39m\"\u001b[39m: _metadata[\u001b[39m\"\u001b[39m\u001b[39mcontributors\u001b[39m\u001b[39m\"\u001b[39m],\n\u001b[1;32m    404\u001b[0m }\n\u001b[1;32m    406\u001b[0m \u001b[39m# Set thesis metadata fields if required\u001b[39;00m\n\u001b[1;32m    407\u001b[0m \u001b[39mif\u001b[39;00m _metadata[\u001b[39m\"\u001b[39m\u001b[39mpublication_type\u001b[39m\u001b[39m\"\u001b[39m] \u001b[39m==\u001b[39m \u001b[39m\"\u001b[39m\u001b[39mthesis\u001b[39m\u001b[39m\"\u001b[39m:\n",
      "\u001b[0;31mKeyError\u001b[0m: 'notes'"
     ]
    }
   ],
   "source": [
    "import fairly\n",
    "\n",
    "# create a client using a personal access token\n",
    "fourtu = fairly.client(id=\"figshare\", token=\"my-4tu-token\")\n",
    "\n",
    "# serialize original metadata \n",
    "metadata = source_dataset.metadata.serialize()\n",
    "\n",
    "# created dataset and upload metadata to 4TU.ResearchData\n",
    "dataset_4tu = fourtu.create_dataset(metadata)\n"
   ]
  },
  {
   "cell_type": "markdown",
   "metadata": {},
   "source": [
    "If you would log in to your 4TU.ResearcData account, you should see a new dataset entry with the metadata we collected from Zenodo. Now, we can upload files to the dataset."
   ]
  },
  {
   "cell_type": "code",
   "execution_count": 20,
   "metadata": {},
   "outputs": [
    {
     "data": {
      "text/plain": [
       "'./from-zenodo/DataForUploadToZenodo.zip'"
      ]
     },
     "execution_count": 20,
     "metadata": {},
     "output_type": "execute_result"
    }
   ],
   "source": [
    "# upload files\n",
    "fourtu.upload_file(dataset_4tu, \"./from-zenodo/DataForUploadToZenodo.zip\")"
   ]
  },
  {
   "cell_type": "markdown",
   "metadata": {},
   "source": [
    "> We could continue uploading files or editing the metadata in a similar way."
   ]
  }
 ],
 "metadata": {
  "kernelspec": {
   "display_name": "Python 3 (ipykernel)",
   "language": "python",
   "name": "python3"
  },
  "language_info": {
   "codemirror_mode": {
    "name": "ipython",
    "version": 3
   },
   "file_extension": ".py",
   "mimetype": "text/x-python",
   "name": "python",
   "nbconvert_exporter": "python",
   "pygments_lexer": "ipython3",
   "version": "3.10.4"
  },
  "vscode": {
   "interpreter": {
    "hash": "262683ceb590c1664a72ae4b5fb24aafe692d2539af9aafb5e1323673742110e"
   }
  }
 },
 "nbformat": 4,
 "nbformat_minor": 4
}
